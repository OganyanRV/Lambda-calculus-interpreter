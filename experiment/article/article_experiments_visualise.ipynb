{
 "cells": [
  {
   "cell_type": "code",
   "execution_count": 1,
   "id": "4514e2a4",
   "metadata": {},
   "outputs": [],
   "source": [
    "import pandas as pd\n",
    "import numpy as np\n",
    "import matplotlib.pyplot as plt\n",
    "import seaborn as sns\n",
    "from matplotlib import rcParams"
   ]
  },
  {
   "cell_type": "code",
   "execution_count": 2,
   "id": "42be0c9f",
   "metadata": {},
   "outputs": [
    {
     "name": "stdout",
     "output_type": "stream",
     "text": [
      "3.8.5\n"
     ]
    }
   ],
   "source": [
    "from platform import python_version\n",
    "\n",
    "print(python_version())"
   ]
  },
  {
   "cell_type": "markdown",
   "id": "29b9b817",
   "metadata": {},
   "source": [
    "## Functions"
   ]
  },
  {
   "cell_type": "code",
   "execution_count": 30,
   "id": "35a1f039",
   "metadata": {},
   "outputs": [],
   "source": [
    "# saving file do not show labels\n",
    "font = {'family' : 'Times New Roman',\n",
    "        'weight' : 'normal',\n",
    "        'size'   : 12}\n",
    "\n",
    "rcParams['font.family'] = 'Times New Roman'\n",
    "rcParams['font.weight'] = 'normal'\n",
    "rcParams['font.size'] = 12\n",
    "rcParams['figure.figsize'] = (7, 5)\n",
    "# plt.rc('font', **font)\n",
    "\n",
    "def draw_and_save_one_line_graph(x, xlabel, ylabel, title, x_data, output_name = None):\n",
    "    fig, axes = plt.subplots(ncols=1,nrows=1)\n",
    "    axes.set_xticks(x_data)\n",
    "    axes.set_xlabel(xlabel, **font)\n",
    "    axes.set_ylabel(ylabel, **font)\n",
    "#     axes.set_title(title, **font)\n",
    "    sns.lineplot(x=x_data, ax = axes, y=x)\n",
    "#     plt.legend(loc = 'best')\n",
    "#     plt.legend(prop=font)\n",
    "\n",
    "    if (output_name is not None):\n",
    "        fig.tight_layout()\n",
    "        fig.savefig('graph/' + output_name.replace(' ', '_') + '.svg', bbox_inches='tight')\n",
    "        \n",
    "def draw_and_save_one_line_graph_points(x, xlabel, ylabel, title, x_data, output_name = None):\n",
    "    fig, axes = plt.subplots(ncols=1,nrows=1)\n",
    "    axes.set_xticks(x_data)\n",
    "    axes.set_xlabel(xlabel, **font)\n",
    "    axes.set_ylabel(ylabel, **font)\n",
    "#     axes.set_title(title, **font)\n",
    "    sns.pointplot(x=x_data, ax=axes, y=x)\n",
    "    #     sns.lineplot(x=x_data, ax = axes, y=x)\n",
    "    #     plt.legend(loc = 'best')\n",
    "    #     plt.legend(prop=font)\n",
    "\n",
    "    if (output_name is not None):\n",
    "        fig.tight_layout()\n",
    "        fig.savefig('graph/' + output_name.replace(' ', '_') + '.svg', bbox_inches='tight')\n",
    "\n",
    "\n",
    "def draw_and_save_three_lines_graph(x, y, z, xlabel, ylabel, title, x_data, output_name = None):\n",
    "    fig, axes = plt.subplots(ncols=1,nrows=1)\n",
    "    axes.set_xticks(x_data)\n",
    "    axes.set_xlabel(xlabel, **font)\n",
    "    axes.set_ylabel(ylabel, **font)\n",
    "#     axes.set_title(title, **font)\n",
    "    sns.lineplot(x=x_data, ax = axes, y=x, label = 'Normal strategy')    \n",
    "    sns.lineplot(x=x_data, ax = axes, y=y, label = 'Call by name strategy')\n",
    "    sns.lineplot(x=x_data, ax = axes, y=z, label = 'Call by value strategy')\n",
    "    plt.legend(loc = 'best')\n",
    "    plt.legend(prop=font)\n",
    "    \n",
    "    if (output_name is not None):\n",
    "        fig.tight_layout()\n",
    "        fig.savefig('graph/' + output_name.replace(' ', '_') + '.svg', bbox_inches='tight')"
   ]
  },
  {
   "cell_type": "markdown",
   "id": "ad8383cf",
   "metadata": {},
   "source": [
    "## Experiment's data loading"
   ]
  },
  {
   "cell_type": "code",
   "execution_count": 4,
   "id": "c3e98a4a",
   "metadata": {},
   "outputs": [],
   "source": [
    "norm_df = pd.read_csv('normal_strat.csv')\n",
    "val_df = pd.read_csv('call_by_value.csv')\n",
    "name_df = pd.read_csv('call_by_name.csv')"
   ]
  },
  {
   "cell_type": "code",
   "execution_count": 5,
   "id": "df746baa",
   "metadata": {},
   "outputs": [
    {
     "name": "stdout",
     "output_type": "stream",
     "text": [
      "(16945559, 11) (16945559, 11) (16945559, 11)\n"
     ]
    }
   ],
   "source": [
    "print(norm_df.shape, val_df.shape, name_df.shape)"
   ]
  },
  {
   "cell_type": "code",
   "execution_count": 6,
   "id": "5e627b90",
   "metadata": {},
   "outputs": [],
   "source": [
    "normal_forms_df = pd.read_csv('normal_form_ratios.csv')"
   ]
  },
  {
   "cell_type": "code",
   "execution_count": 7,
   "id": "4e8e249f",
   "metadata": {},
   "outputs": [
    {
     "data": {
      "text/plain": [
       "(69445532, 8)"
      ]
     },
     "execution_count": 7,
     "metadata": {},
     "output_type": "execute_result"
    }
   ],
   "source": [
    "normal_forms_df.shape"
   ]
  },
  {
   "cell_type": "code",
   "execution_count": 8,
   "id": "c6ac8e5a",
   "metadata": {},
   "outputs": [
    {
     "data": {
      "text/html": [
       "<div>\n",
       "<style scoped>\n",
       "    .dataframe tbody tr th:only-of-type {\n",
       "        vertical-align: middle;\n",
       "    }\n",
       "\n",
       "    .dataframe tbody tr th {\n",
       "        vertical-align: top;\n",
       "    }\n",
       "\n",
       "    .dataframe thead th {\n",
       "        text-align: right;\n",
       "    }\n",
       "</style>\n",
       "<table border=\"1\" class=\"dataframe\">\n",
       "  <thead>\n",
       "    <tr style=\"text-align: right;\">\n",
       "      <th></th>\n",
       "      <th>size_of_term</th>\n",
       "      <th>number_of_term</th>\n",
       "      <th>steps_count</th>\n",
       "      <th>size_biggest_term_in_steps</th>\n",
       "      <th>size_reduced</th>\n",
       "      <th>cycled_reduction</th>\n",
       "      <th>increasing_reduction</th>\n",
       "      <th>has_normal_form</th>\n",
       "      <th>is_same_norm</th>\n",
       "      <th>is_same_val</th>\n",
       "      <th>is_same_name</th>\n",
       "    </tr>\n",
       "  </thead>\n",
       "  <tbody>\n",
       "    <tr>\n",
       "      <th>3876948</th>\n",
       "      <td>11</td>\n",
       "      <td>838300156</td>\n",
       "      <td>2.0</td>\n",
       "      <td>11.0</td>\n",
       "      <td>7.0</td>\n",
       "      <td>False</td>\n",
       "      <td>False</td>\n",
       "      <td>True</td>\n",
       "      <td>True</td>\n",
       "      <td>False</td>\n",
       "      <td>False</td>\n",
       "    </tr>\n",
       "    <tr>\n",
       "      <th>7533597</th>\n",
       "      <td>11</td>\n",
       "      <td>841956805</td>\n",
       "      <td>2.0</td>\n",
       "      <td>11.0</td>\n",
       "      <td>7.0</td>\n",
       "      <td>False</td>\n",
       "      <td>False</td>\n",
       "      <td>True</td>\n",
       "      <td>True</td>\n",
       "      <td>False</td>\n",
       "      <td>False</td>\n",
       "    </tr>\n",
       "    <tr>\n",
       "      <th>3158960</th>\n",
       "      <td>11</td>\n",
       "      <td>837582168</td>\n",
       "      <td>1.0</td>\n",
       "      <td>11.0</td>\n",
       "      <td>9.0</td>\n",
       "      <td>False</td>\n",
       "      <td>False</td>\n",
       "      <td>True</td>\n",
       "      <td>True</td>\n",
       "      <td>True</td>\n",
       "      <td>True</td>\n",
       "    </tr>\n",
       "    <tr>\n",
       "      <th>16392275</th>\n",
       "      <td>11</td>\n",
       "      <td>850815483</td>\n",
       "      <td>4.0</td>\n",
       "      <td>11.0</td>\n",
       "      <td>4.0</td>\n",
       "      <td>False</td>\n",
       "      <td>False</td>\n",
       "      <td>True</td>\n",
       "      <td>True</td>\n",
       "      <td>False</td>\n",
       "      <td>False</td>\n",
       "    </tr>\n",
       "    <tr>\n",
       "      <th>14295696</th>\n",
       "      <td>11</td>\n",
       "      <td>848718904</td>\n",
       "      <td>4.0</td>\n",
       "      <td>11.0</td>\n",
       "      <td>4.0</td>\n",
       "      <td>False</td>\n",
       "      <td>False</td>\n",
       "      <td>True</td>\n",
       "      <td>True</td>\n",
       "      <td>False</td>\n",
       "      <td>False</td>\n",
       "    </tr>\n",
       "  </tbody>\n",
       "</table>\n",
       "</div>"
      ],
      "text/plain": [
       "          size_of_term  number_of_term  steps_count  \\\n",
       "3876948             11       838300156          2.0   \n",
       "7533597             11       841956805          2.0   \n",
       "3158960             11       837582168          1.0   \n",
       "16392275            11       850815483          4.0   \n",
       "14295696            11       848718904          4.0   \n",
       "\n",
       "          size_biggest_term_in_steps  size_reduced  cycled_reduction  \\\n",
       "3876948                         11.0           7.0             False   \n",
       "7533597                         11.0           7.0             False   \n",
       "3158960                         11.0           9.0             False   \n",
       "16392275                        11.0           4.0             False   \n",
       "14295696                        11.0           4.0             False   \n",
       "\n",
       "          increasing_reduction  has_normal_form  is_same_norm  is_same_val  \\\n",
       "3876948                  False             True          True        False   \n",
       "7533597                  False             True          True        False   \n",
       "3158960                  False             True          True         True   \n",
       "16392275                 False             True          True        False   \n",
       "14295696                 False             True          True        False   \n",
       "\n",
       "          is_same_name  \n",
       "3876948          False  \n",
       "7533597          False  \n",
       "3158960           True  \n",
       "16392275         False  \n",
       "14295696         False  "
      ]
     },
     "execution_count": 8,
     "metadata": {},
     "output_type": "execute_result"
    }
   ],
   "source": [
    "norm_df.sample(5)"
   ]
  },
  {
   "cell_type": "code",
   "execution_count": 9,
   "id": "13bff5c9",
   "metadata": {
    "scrolled": true
   },
   "outputs": [
    {
     "data": {
      "text/html": [
       "<div>\n",
       "<style scoped>\n",
       "    .dataframe tbody tr th:only-of-type {\n",
       "        vertical-align: middle;\n",
       "    }\n",
       "\n",
       "    .dataframe tbody tr th {\n",
       "        vertical-align: top;\n",
       "    }\n",
       "\n",
       "    .dataframe thead th {\n",
       "        text-align: right;\n",
       "    }\n",
       "</style>\n",
       "<table border=\"1\" class=\"dataframe\">\n",
       "  <thead>\n",
       "    <tr style=\"text-align: right;\">\n",
       "      <th></th>\n",
       "      <th>size_of_term</th>\n",
       "      <th>number_of_term</th>\n",
       "      <th>steps_count</th>\n",
       "      <th>size_biggest_term_in_steps</th>\n",
       "      <th>size_reduced</th>\n",
       "      <th>cycled_reduction</th>\n",
       "      <th>increasing_reduction</th>\n",
       "      <th>has_normal_form</th>\n",
       "    </tr>\n",
       "  </thead>\n",
       "  <tbody>\n",
       "    <tr>\n",
       "      <th>52355698</th>\n",
       "      <td>10</td>\n",
       "      <td>46692578</td>\n",
       "      <td>1.0</td>\n",
       "      <td>10.0</td>\n",
       "      <td>1.0</td>\n",
       "      <td>False</td>\n",
       "      <td>False</td>\n",
       "      <td>True</td>\n",
       "    </tr>\n",
       "    <tr>\n",
       "      <th>1790433</th>\n",
       "      <td>9</td>\n",
       "      <td>1286754</td>\n",
       "      <td>0.0</td>\n",
       "      <td>9.0</td>\n",
       "      <td>9.0</td>\n",
       "      <td>False</td>\n",
       "      <td>False</td>\n",
       "      <td>True</td>\n",
       "    </tr>\n",
       "    <tr>\n",
       "      <th>13786310</th>\n",
       "      <td>10</td>\n",
       "      <td>8123190</td>\n",
       "      <td>0.0</td>\n",
       "      <td>10.0</td>\n",
       "      <td>10.0</td>\n",
       "      <td>False</td>\n",
       "      <td>False</td>\n",
       "      <td>True</td>\n",
       "    </tr>\n",
       "    <tr>\n",
       "      <th>19108106</th>\n",
       "      <td>10</td>\n",
       "      <td>13444986</td>\n",
       "      <td>0.0</td>\n",
       "      <td>10.0</td>\n",
       "      <td>10.0</td>\n",
       "      <td>False</td>\n",
       "      <td>False</td>\n",
       "      <td>True</td>\n",
       "    </tr>\n",
       "    <tr>\n",
       "      <th>48344608</th>\n",
       "      <td>10</td>\n",
       "      <td>42681488</td>\n",
       "      <td>2.0</td>\n",
       "      <td>10.0</td>\n",
       "      <td>6.0</td>\n",
       "      <td>False</td>\n",
       "      <td>False</td>\n",
       "      <td>True</td>\n",
       "    </tr>\n",
       "  </tbody>\n",
       "</table>\n",
       "</div>"
      ],
      "text/plain": [
       "          size_of_term  number_of_term  steps_count  \\\n",
       "52355698            10        46692578          1.0   \n",
       "1790433              9         1286754          0.0   \n",
       "13786310            10         8123190          0.0   \n",
       "19108106            10        13444986          0.0   \n",
       "48344608            10        42681488          2.0   \n",
       "\n",
       "          size_biggest_term_in_steps  size_reduced  cycled_reduction  \\\n",
       "52355698                        10.0           1.0             False   \n",
       "1790433                          9.0           9.0             False   \n",
       "13786310                        10.0          10.0             False   \n",
       "19108106                        10.0          10.0             False   \n",
       "48344608                        10.0           6.0             False   \n",
       "\n",
       "          increasing_reduction  has_normal_form  \n",
       "52355698                 False             True  \n",
       "1790433                  False             True  \n",
       "13786310                 False             True  \n",
       "19108106                 False             True  \n",
       "48344608                 False             True  "
      ]
     },
     "execution_count": 9,
     "metadata": {},
     "output_type": "execute_result"
    }
   ],
   "source": [
    "normal_forms_df.sample(5)"
   ]
  },
  {
   "cell_type": "markdown",
   "id": "198d78d1",
   "metadata": {},
   "source": [
    "# 1. Normal forms analysis"
   ]
  },
  {
   "cell_type": "markdown",
   "id": "8e42a02e",
   "metadata": {},
   "source": [
    "In this section we beta-reduce all possible closed terms with sizes ∈ [1;10] using normal strategy, which finds normal form if term has one according to standartization theorem. "
   ]
  },
  {
   "cell_type": "markdown",
   "id": "0ae0f802",
   "metadata": {},
   "source": [
    "### 1. Ratio of terms being in normal form among all terms"
   ]
  },
  {
   "cell_type": "code",
   "execution_count": 31,
   "id": "51847a3d",
   "metadata": {
    "scrolled": true
   },
   "outputs": [
    {
     "data": {
      "text/plain": [
       "0.6401636033258411"
      ]
     },
     "execution_count": 31,
     "metadata": {},
     "output_type": "execute_result"
    }
   ],
   "source": [
    "1 - normal_forms_df[normal_forms_df['steps_count'] == 0].shape[0] / normal_forms_df.shape[0]"
   ]
  },
  {
   "cell_type": "code",
   "execution_count": 32,
   "id": "5fcfdc2a",
   "metadata": {},
   "outputs": [],
   "source": [
    "precent_terms_in_nf = np.zeros(shape = len(normal_forms_df['size_of_term'].unique()), dtype=float)\n",
    "\n",
    "for term_size in normal_forms_df['size_of_term'].unique():\n",
    "    precent_terms_in_nf[term_size - 1] = normal_forms_df[(normal_forms_df['size_of_term'] == term_size) &\n",
    "                                                  (normal_forms_df['has_normal_form'] == True) &\n",
    "                                                                (normal_forms_df['steps_count'] == 0)].shape[0] / normal_forms_df[normal_forms_df['size_of_term'] == term_size].shape[0]"
   ]
  },
  {
   "cell_type": "code",
   "execution_count": 33,
   "id": "5ecb56b7",
   "metadata": {},
   "outputs": [
    {
     "data": {
      "image/png": "[encoded data removed]",
      "text/plain": [
       "<Figure size 504x360 with 1 Axes>"
      ]
     },
     "metadata": {
      "needs_background": "light"
     },
     "output_type": "display_data"
    }
   ],
   "source": [
    "draw_and_save_one_line_graph_points(precent_terms_in_nf,\n",
    "                               \"Sizes of original terms\", \"Ratios\", \"Ratio of terms being in normal form among all terms\",\n",
    "                                normal_forms_df['size_of_term'].unique(),\n",
    "                               \"normal_forms/Ratio of terms being in normal form among all terms\")"
   ]
  },
  {
   "cell_type": "markdown",
   "id": "8d7a95d4",
   "metadata": {},
   "source": [
    "### 2. Average length of reduction chains among all terms having normal form"
   ]
  },
  {
   "cell_type": "markdown",
   "id": "e9ab61b9",
   "metadata": {},
   "source": [
    "If term has a sequence of beta-reductions, which lead to term's normal form, we'll call this sequence a **reduction chain**."
   ]
  },
  {
   "cell_type": "code",
   "execution_count": 34,
   "id": "ff678260",
   "metadata": {},
   "outputs": [],
   "source": [
    "average_len = np.zeros(shape = len(normal_forms_df['size_of_term'].unique()), dtype=float)\n",
    "\n",
    "for term_size in normal_forms_df['size_of_term'].unique():\n",
    "    average_len[term_size - 1] = np.mean(normal_forms_df[(normal_forms_df['size_of_term'] == term_size) &\n",
    "                                                  (normal_forms_df['has_normal_form'] == True)]['steps_count'])    "
   ]
  },
  {
   "cell_type": "code",
   "execution_count": 35,
   "id": "ee18df33",
   "metadata": {
    "scrolled": true
   },
   "outputs": [
    {
     "data": {
      "image/png": "[encoded data removed]",
      "text/plain": [
       "<Figure size 504x360 with 1 Axes>"
      ]
     },
     "metadata": {
      "needs_background": "light"
     },
     "output_type": "display_data"
    }
   ],
   "source": [
    "draw_and_save_one_line_graph(average_len,\n",
    "                               \"Sizes of original terms\", \"Average chain's lengths\", \n",
    "                             \"Average length of reduction chains among all terms having normal form\",\n",
    "                                normal_forms_df['size_of_term'].unique(),\n",
    "                               \"normal_forms/Average length of reduction chains among all terms having normal form\")"
   ]
  },
  {
   "cell_type": "markdown",
   "id": "adf695a8",
   "metadata": {},
   "source": [
    "### 3. Average length of reduction chains among all terms having normal form excluding terms being already in normal form"
   ]
  },
  {
   "cell_type": "code",
   "execution_count": 36,
   "id": "c5cfcffe",
   "metadata": {},
   "outputs": [],
   "source": [
    "average_len_notinnf = np.zeros(shape = len(normal_forms_df['size_of_term'].unique()), dtype=float)\n",
    "\n",
    "for term_size in normal_forms_df['size_of_term'].unique():\n",
    "    average_len_notinnf[term_size - 1] = np.mean(normal_forms_df[(normal_forms_df['size_of_term'] == term_size) &\n",
    "                                                  (normal_forms_df['has_normal_form'] == True) &\n",
    "                                                                (normal_forms_df['steps_count'] != 0)]['steps_count'])  "
   ]
  },
  {
   "cell_type": "code",
   "execution_count": 37,
   "id": "0f56a430",
   "metadata": {},
   "outputs": [
    {
     "data": {
      "image/png": "[encoded data removed]",
      "text/plain": [
       "<Figure size 504x360 with 1 Axes>"
      ]
     },
     "metadata": {
      "needs_background": "light"
     },
     "output_type": "display_data"
    }
   ],
   "source": [
    "draw_and_save_one_line_graph(average_len_notinnf,\n",
    "                               \"Sizes of original terms\", \"Average chain's lengths\", \n",
    "                             \"Average length of reduction chains among all terms having normal form excluding terms being already in normal form\",\n",
    "                                normal_forms_df['size_of_term'].unique(),\n",
    "                               \"normal_forms/Average length of reduction chains among all terms having normal form excluding terms being already in normal form\")"
   ]
  },
  {
   "cell_type": "markdown",
   "id": "8c493e6b",
   "metadata": {},
   "source": [
    "Distribution of reductions chains lengths among terms of size 10"
   ]
  },
  {
   "cell_type": "code",
   "execution_count": 42,
   "id": "978e9d8e",
   "metadata": {},
   "outputs": [
    {
     "data": {
      "image/png": "[encoded data removed]",
      "text/plain": [
       "<Figure size 504x360 with 1 Axes>"
      ]
     },
     "metadata": {
      "needs_background": "light"
     },
     "output_type": "display_data"
    }
   ],
   "source": [
    "length_to_skip = 20000\n",
    "data_1 = normal_forms_df[(normal_forms_df['has_normal_form'] == True) &(normal_forms_df['steps_count'] != 0)\n",
    "               &(normal_forms_df['size_of_term'] == 10)]\n",
    "info = data_1.steps_count.value_counts() > length_to_skip\n",
    "dict_info = info.to_dict()\n",
    "data_filtered = data_1[data_1['steps_count'].map(dict_info)]\n",
    "data_filtered['steps_count'].value_counts()\n",
    "import matplotlib.ticker as mtick\n",
    "from matplotlib.ticker import PercentFormatter\n",
    "plt.hist(x=data_filtered['steps_count'], weights=np.ones(len(data_filtered['steps_count'])) / len(data_filtered['steps_count']))\n",
    "plt.gca().yaxis.set_major_formatter(PercentFormatter(1))\n",
    "plt.xlabel(\"Chain's lengths\", **font)\n",
    "plt.tight_layout()\n",
    "plt.savefig('graph/normal_forms/' + 'Steps_count_distrib' + '.svg', bbox_inches='tight')\n",
    "plt.show()"
   ]
  },
  {
   "cell_type": "markdown",
   "id": "06097267",
   "metadata": {},
   "source": [
    "### 4. Average size of reduced terms among all terms having normal form"
   ]
  },
  {
   "cell_type": "markdown",
   "id": "5d860273",
   "metadata": {},
   "source": [
    "Size of term defines due to article"
   ]
  },
  {
   "cell_type": "code",
   "execution_count": 39,
   "id": "8edb998c",
   "metadata": {},
   "outputs": [],
   "source": [
    "average_reduced_size = np.zeros(shape = len(normal_forms_df['size_of_term'].unique()), dtype=float)\n",
    "\n",
    "for term_size in normal_forms_df['size_of_term'].unique():\n",
    "    average_reduced_size[term_size - 1] = np.mean(normal_forms_df[(normal_forms_df['size_of_term'] == term_size) &\n",
    "                                                  (normal_forms_df['has_normal_form'] == True)]['size_reduced'])   "
   ]
  },
  {
   "cell_type": "code",
   "execution_count": 40,
   "id": "9715f715",
   "metadata": {},
   "outputs": [
    {
     "data": {
      "image/png": "[encoded data removed]",
      "text/plain": [
       "<Figure size 504x360 with 1 Axes>"
      ]
     },
     "metadata": {
      "needs_background": "light"
     },
     "output_type": "display_data"
    }
   ],
   "source": [
    "draw_and_save_one_line_graph(average_reduced_size,\n",
    "                               \"Sizes of original terms\", \"Average sizes of reduced terms\",\n",
    "                             \"Average size of reduced terms among all terms having normal form excluding terms being already in normal form\",\n",
    "                                normal_forms_df['size_of_term'].unique(),\n",
    "                               \"normal_forms/Average size of reduced terms among all terms having normal form\")"
   ]
  },
  {
   "cell_type": "markdown",
   "id": "9466adca",
   "metadata": {},
   "source": [
    "### 5. Average size of reduced terms among all terms having normal form excluding terms being already in normal form"
   ]
  },
  {
   "cell_type": "code",
   "execution_count": 43,
   "id": "bf0eb515",
   "metadata": {},
   "outputs": [],
   "source": [
    "average_reduced_size_notinnf = np.zeros(shape = len(normal_forms_df['size_of_term'].unique()), dtype=float)\n",
    "\n",
    "for term_size in normal_forms_df['size_of_term'].unique():\n",
    "    average_reduced_size_notinnf[term_size - 1] = np.mean(normal_forms_df[(normal_forms_df['size_of_term'] == term_size) &\n",
    "                                                  (normal_forms_df['has_normal_form'] == True)\n",
    "                                                                         &(normal_forms_df['steps_count'] != 0)]['size_reduced']) "
   ]
  },
  {
   "cell_type": "code",
   "execution_count": 44,
   "id": "afa23059",
   "metadata": {},
   "outputs": [
    {
     "data": {
      "image/png": "[encoded data removed]",
      "text/plain": [
       "<Figure size 504x360 with 1 Axes>"
      ]
     },
     "metadata": {
      "needs_background": "light"
     },
     "output_type": "display_data"
    }
   ],
   "source": [
    "draw_and_save_one_line_graph(average_reduced_size_notinnf,\n",
    "                               \"Sizes of original terms\", \"Average sizes of reduced terms\",\n",
    "                             \"Average size of reduced terms among all terms having normal form\",\n",
    "                                normal_forms_df['size_of_term'].unique(),\n",
    "                               \"normal_forms/Average size of reduced terms among all terms having normal form excluding terms being already in normal form\")"
   ]
  },
  {
   "cell_type": "markdown",
   "id": "b1a545a9",
   "metadata": {},
   "source": [
    "### 6. Average max term's size during reduction among all terms having normal form excluding terms being already in normal form"
   ]
  },
  {
   "cell_type": "code",
   "execution_count": 45,
   "id": "38f79d34",
   "metadata": {},
   "outputs": [],
   "source": [
    "average_maxsize_notinnf = np.zeros(shape = len(normal_forms_df['size_of_term'].unique()), dtype=float)\n",
    "\n",
    "for term_size in normal_forms_df['size_of_term'].unique():\n",
    "    average_maxsize_notinnf[term_size - 1] = np.mean(normal_forms_df[(normal_forms_df['size_of_term'] == term_size) &\n",
    "                                                  (normal_forms_df['has_normal_form'] == True)\n",
    "                                                                         &(normal_forms_df['steps_count'] != 0)]['size_biggest_term_in_steps'])   "
   ]
  },
  {
   "cell_type": "code",
   "execution_count": 46,
   "id": "911e7401",
   "metadata": {
    "scrolled": true
   },
   "outputs": [
    {
     "data": {
      "image/png": "[encoded data removed]",
      "text/plain": [
       "<Figure size 504x360 with 1 Axes>"
      ]
     },
     "metadata": {
      "needs_background": "light"
     },
     "output_type": "display_data"
    }
   ],
   "source": [
    "draw_and_save_one_line_graph_points(average_maxsize_notinnf[2:],\n",
    "                               \"Sizes of original terms\", \"Average max term's sizes\", \n",
    "                                    \"Average max term's size during reduction among all terms having normal form excluding terms being already in normal form\",\n",
    "                                normal_forms_df['size_of_term'].unique()[2:],\n",
    "                               \"normal_forms/Average max term's size during reduction among all terms having normal form excluding terms being already in normal form\")"
   ]
  },
  {
   "cell_type": "code",
   "execution_count": null,
   "id": "1724f40d",
   "metadata": {},
   "outputs": [],
   "source": []
  },
  {
   "cell_type": "markdown",
   "id": "4d0e5003",
   "metadata": {},
   "source": [
    "### 7. Ratio of max term's size during reduction to the original term's size among all terms having normal form excluding terms being already in normal form"
   ]
  },
  {
   "cell_type": "code",
   "execution_count": 47,
   "id": "055770a9",
   "metadata": {},
   "outputs": [],
   "source": [
    "size_ratio_full_notinnf = np.zeros(shape = len(normal_forms_df['size_of_term'].unique()), dtype=float)\n",
    "\n",
    "for term_size in normal_forms_df['size_of_term'].unique():\n",
    "    size_ratio_full_notinnf[term_size - 1] = np.mean(normal_forms_df[(normal_forms_df['size_of_term'] == term_size) &\n",
    "                                                  (normal_forms_df['has_normal_form'] == True) & (normal_forms_df['steps_count'] != 0)]\n",
    "                                                      ['size_biggest_term_in_steps'] /\n",
    "                                                      normal_forms_df[(normal_forms_df['size_of_term'] == term_size) &\n",
    "                                                  (normal_forms_df['has_normal_form'] == True) & (normal_forms_df['steps_count'] != 0)]\n",
    "                                                      ['size_of_term'])"
   ]
  },
  {
   "cell_type": "code",
   "execution_count": 55,
   "id": "a0157bdd",
   "metadata": {},
   "outputs": [
    {
     "data": {
      "image/png": "[encoded data removed]",
      "text/plain": [
       "<Figure size 504x360 with 1 Axes>"
      ]
     },
     "metadata": {
      "needs_background": "light"
     },
     "output_type": "display_data"
    }
   ],
   "source": [
    "draw_and_save_one_line_graph(size_ratio_full_notinnf,\n",
    "                              \"Sizes of original terms\", \"Ratios\",\n",
    "                             \"Ratio of max term's size during reduction to the original term's size among all terms having normal form excluding terms being already in normal form\",\n",
    "                                normal_forms_df['size_of_term'].unique(),\n",
    "                               \"normal_forms/Ratio of max term's size during reduction to the original term's size among all terms having normal form excluding terms being already in normal form\")"
   ]
  },
  {
   "cell_type": "markdown",
   "id": "8dc05601",
   "metadata": {},
   "source": [
    "### 8. Ratio of \"increasing\" terms among all terms having no normal form"
   ]
  },
  {
   "cell_type": "code",
   "execution_count": 49,
   "id": "c1397bd9",
   "metadata": {},
   "outputs": [],
   "source": [
    "cnt_to_skip = 4\n",
    "precent_increasing_full = np.zeros(shape = len(normal_forms_df['size_of_term'].unique())- cnt_to_skip, dtype=float)\n",
    "\n",
    "for term_size in range(cnt_to_skip, len(normal_forms_df['size_of_term'].unique())):\n",
    "    precent_increasing_full[term_size - cnt_to_skip] = (normal_forms_df[(normal_forms_df['size_of_term'] == term_size + 1) &\n",
    "                                                  (normal_forms_df['has_normal_form'] == False)\n",
    "                                                                         &(normal_forms_df['increasing_reduction'] == True)].shape[0]\n",
    "                                             ) / (normal_forms_df[(normal_forms_df['size_of_term'] == term_size + 1) &\n",
    "                                                  (normal_forms_df['has_normal_form'] == False)].shape[0])"
   ]
  },
  {
   "cell_type": "code",
   "execution_count": 50,
   "id": "bfce5673",
   "metadata": {},
   "outputs": [
    {
     "data": {
      "image/png": "[encoded data removed]",
      "text/plain": [
       "<Figure size 504x360 with 1 Axes>"
      ]
     },
     "metadata": {
      "needs_background": "light"
     },
     "output_type": "display_data"
    }
   ],
   "source": [
    "draw_and_save_one_line_graph(precent_increasing_full,                             \n",
    "                              \"Sizes of original terms\", \"Ratios\",\n",
    "                             \" Ratio of \\\"increasing\\\" terms among all terms having no normal form\",     \n",
    "                                np.apply_along_axis(lambda x: x + cnt_to_skip, 0, normal_forms_df['size_of_term'].unique()[:len(normal_forms_df['size_of_term'].unique())- cnt_to_skip]),\n",
    "                               \"normal_forms/Ratio of increasing terms among all terms having no normal form\")"
   ]
  },
  {
   "cell_type": "markdown",
   "id": "e87992ff",
   "metadata": {},
   "source": [
    "### 9. Ratio of \"looping\" terms among all terms having no normal form"
   ]
  },
  {
   "cell_type": "code",
   "execution_count": 51,
   "id": "abcf58ca",
   "metadata": {},
   "outputs": [],
   "source": [
    "precent_cycled_full = np.zeros(shape = len(normal_forms_df['size_of_term'].unique()) - cnt_to_skip, dtype=float)\n",
    "\n",
    "for term_size in range(cnt_to_skip, len(normal_forms_df['size_of_term'].unique())):\n",
    "    precent_cycled_full[term_size - cnt_to_skip] = (normal_forms_df[(normal_forms_df['size_of_term'] == term_size + 1) &\n",
    "                                                  (normal_forms_df['has_normal_form'] == False)\n",
    "                                                                         &(normal_forms_df['cycled_reduction'] == True)].shape[0]\n",
    "                                             ) / (normal_forms_df[(normal_forms_df['size_of_term'] == term_size + 1) &\n",
    "                                                  (normal_forms_df['has_normal_form'] == False)].shape[0])"
   ]
  },
  {
   "cell_type": "code",
   "execution_count": 52,
   "id": "7ccd41e8",
   "metadata": {},
   "outputs": [
    {
     "data": {
      "image/png": "[encoded data removed]",
      "text/plain": [
       "<Figure size 504x360 with 1 Axes>"
      ]
     },
     "metadata": {
      "needs_background": "light"
     },
     "output_type": "display_data"
    }
   ],
   "source": [
    "draw_and_save_one_line_graph(precent_cycled_full,                             \n",
    "                              \"Sizes of original terms\", \"Ratios\",\n",
    "                             \" Ratio of \\\"looping\\\" terms among all terms having no normal form\",     \n",
    "                                np.apply_along_axis(lambda x: x + cnt_to_skip, 0, normal_forms_df['size_of_term'].unique()[:len(normal_forms_df['size_of_term'].unique())- cnt_to_skip]),\n",
    "                             \"normal_forms/Ratio of looping terms among all terms having no normal form\")"
   ]
  },
  {
   "cell_type": "markdown",
   "id": "44cf6286",
   "metadata": {},
   "source": [
    "# 2. Different reduction strategies comparing"
   ]
  },
  {
   "cell_type": "markdown",
   "id": "2b6f798e",
   "metadata": {},
   "source": [
    "In this section we compare results of beta-reducing in different strategies such as:\n",
    "1. Normal strategy.\n",
    "2. Call by name strategy.\n",
    "3. Call by value strategy."
   ]
  },
  {
   "cell_type": "markdown",
   "id": "f037cd5f",
   "metadata": {},
   "source": [
    "We take all possible closed terms with sizes ∈ [1;11], which ARE NOT abstractions. This is due to fact that Call by Name strategy and Call by Value don't go \"under\" lambda-abstractions, so those terms are not really informative for research."
   ]
  },
  {
   "cell_type": "markdown",
   "id": "e744ed51",
   "metadata": {},
   "source": []
  },
  {
   "cell_type": "code",
   "execution_count": null,
   "id": "c5ec3b89",
   "metadata": {},
   "outputs": [],
   "source": []
  },
  {
   "cell_type": "code",
   "execution_count": null,
   "id": "a406c1d6",
   "metadata": {},
   "outputs": [],
   "source": []
  },
  {
   "cell_type": "markdown",
   "id": "2a586465",
   "metadata": {},
   "source": [
    "## 1. Анализ стратегий"
   ]
  },
  {
   "cell_type": "markdown",
   "id": "b5abc1fe",
   "metadata": {},
   "source": [
    "Для термов размера n = [1,18] сравним редукции в различных стратегиях. Будем сравнивать не на всех возможных случайных термах, а только на тех, которые начинаются не абстракцией (потому что они уже в нормальной форме в соответствии со стратегиями вызова оп имени  изначению). Из-за того, что при n = 10 количество возможных термов увеличивается больше, чем на миллион, будем делать так: При n <= 9 берутся все термы (начинающиеся не абстракцией), для n от 10 до 12 включительно - случайные 500к (начинающиеся не абстракцией), от 13 до 15 - 250к (начинающиеся не абстракцией), от 16 до 18 - 100к(начинающиеся не абстракцией). "
   ]
  },
  {
   "cell_type": "markdown",
   "id": "a170b019",
   "metadata": {},
   "source": [
    " #### 1. Средняя длина цепочки редукций для каждой стратегии"
   ]
  },
  {
   "cell_type": "code",
   "execution_count": null,
   "id": "6751ffaf",
   "metadata": {},
   "outputs": [],
   "source": [
    "average_len_norm = np.zeros(shape = len(norm_df['size_of_term'].unique()), dtype=float)\n",
    "average_len_name = np.zeros(shape = len(norm_df['size_of_term'].unique()), dtype=float)\n",
    "average_len_val = np.zeros(shape = len(norm_df['size_of_term'].unique()), dtype=float)\n",
    "\n",
    "for term_size in norm_df['size_of_term'].unique():\n",
    "    average_len_norm[term_size - 1] = np.mean(norm_df[(norm_df['size_of_term'] == term_size) &\n",
    "                                                  (norm_df['has_normal_form'] == True)]['steps_count'])\n",
    "    average_len_name[term_size - 1] = np.mean(name_df[(name_df['size_of_term'] == term_size) &\n",
    "                                                  (name_df['has_normal_form'] == True)]['steps_count'])\n",
    "    average_len_val[term_size - 1] = np.mean(val_df[(val_df['size_of_term'] == term_size) &\n",
    "                                                  (val_df['has_normal_form'] == True)]['steps_count'])"
   ]
  },
  {
   "cell_type": "code",
   "execution_count": null,
   "id": "5787d8e2",
   "metadata": {},
   "outputs": [],
   "source": [
    "draw_and_save_three_lines_graph(average_len_norm, average_len_name, average_len_val,\n",
    "                               \"Размер исходных термов\", \"Среднее количество шагов редукции\", norm_df['size_of_term'].unique(),\n",
    "                               \"strategies/Average_steps_count\")"
   ]
  },
  {
   "cell_type": "markdown",
   "id": "d4adb809",
   "metadata": {},
   "source": [
    " #### 2. Средняя длина цепочки редукций для каждой стратегии, где вызов по имени и вызов по значению привели терм к нормальной форме в соответствии с нормальной стратегий"
   ]
  },
  {
   "cell_type": "code",
   "execution_count": null,
   "id": "d9a185f4",
   "metadata": {},
   "outputs": [],
   "source": [
    "average_len2_norm = np.zeros(shape = len(norm_df['size_of_term'].unique()), dtype=float)\n",
    "average_len2_name = np.zeros(shape = len(norm_df['size_of_term'].unique()), dtype=float)\n",
    "average_len2_val = np.zeros(shape = len(norm_df['size_of_term'].unique()), dtype=float)\n",
    "\n",
    "for term_size in norm_df['size_of_term'].unique():\n",
    "    average_len2_norm[term_size - 1] = np.mean(norm_df[(norm_df['size_of_term'] == term_size)\n",
    "                                                       &(norm_df['has_normal_form'] == True)\n",
    "                                                       &(norm_df['is_same_norm'] == True)\n",
    "                                                       &(norm_df['is_same_val'] == True)\n",
    "                                                       &(norm_df['is_same_name'] == True)]['steps_count'])\n",
    "    \n",
    "    average_len2_name[term_size - 1] = np.mean(name_df[(name_df['size_of_term'] == term_size)\n",
    "                                                       &(name_df['has_normal_form'] == True)\n",
    "                                                       &(name_df['is_same_norm'] == True)\n",
    "                                                       &(name_df['is_same_val'] == True)\n",
    "                                                       &(name_df['is_same_name'] == True)]['steps_count'])\n",
    "    \n",
    "    average_len2_val[term_size - 1] = np.mean(val_df[(val_df['size_of_term'] == term_size)\n",
    "                                                       &(val_df['has_normal_form'] == True)\n",
    "                                                       &(val_df['is_same_norm'] == True)\n",
    "                                                       &(val_df['is_same_val'] == True)\n",
    "                                                       &(val_df['is_same_name'] == True)]['steps_count'])"
   ]
  },
  {
   "cell_type": "code",
   "execution_count": null,
   "id": "baeb8a4f",
   "metadata": {},
   "outputs": [],
   "source": [
    "draw_and_save_three_lines_graph(average_len2_norm, average_len2_name, average_len2_val,\n",
    "                               \"Размер исходных термов\", \"Среднее количество шагов редукции\", norm_df['size_of_term'].unique(),\n",
    "                               \"strategies/Average_steps_count_same_normal_form\")"
   ]
  },
  {
   "cell_type": "code",
   "execution_count": null,
   "id": "1d06c9fd",
   "metadata": {},
   "outputs": [],
   "source": [
    "average_len2_norm = np.zeros(shape = len(norm_df['size_of_term'].unique()), dtype=float)\n",
    "average_len2_name = np.zeros(shape = len(norm_df['size_of_term'].unique()), dtype=float)\n",
    "average_len2_val = np.zeros(shape = len(norm_df['size_of_term'].unique()), dtype=float)\n",
    "\n",
    "for term_size in norm_df['size_of_term'].unique():\n",
    "    average_len2_norm[term_size - 1] = np.mean(norm_df[(norm_df['size_of_term'] == term_size)\n",
    "                                                       &(norm_df['has_normal_form'] == True)\n",
    "                                                       &(norm_df['is_same_norm'] == True)\n",
    "                                                       &(norm_df['is_same_val'] == True)\n",
    "                                                       &(norm_df['is_same_name'] == True)\n",
    "                                                       &(norm_df['steps_count'] != 0)]['steps_count'])\n",
    "    \n",
    "    average_len2_name[term_size - 1] = np.mean(name_df[(name_df['size_of_term'] == term_size)\n",
    "                                                       &(name_df['has_normal_form'] == True)\n",
    "                                                       &(name_df['is_same_norm'] == True)\n",
    "                                                       &(name_df['is_same_val'] == True)\n",
    "                                                       &(name_df['is_same_name'] == True)\n",
    "                                                      &(name_df['steps_count'] != 0)]['steps_count'])\n",
    "    \n",
    "    average_len2_val[term_size - 1] = np.mean(val_df[(val_df['size_of_term'] == term_size)\n",
    "                                                       &(val_df['has_normal_form'] == True)\n",
    "                                                       &(val_df['is_same_norm'] == True)\n",
    "                                                       &(val_df['is_same_val'] == True)\n",
    "                                                       &(val_df['is_same_name'] == True)\n",
    "                                                    &(val_df['steps_count'] != 0)]['steps_count'])"
   ]
  },
  {
   "cell_type": "code",
   "execution_count": null,
   "id": "8ccc0f61",
   "metadata": {},
   "outputs": [],
   "source": [
    "draw_and_save_three_lines_graph(average_len2_norm, average_len2_name, average_len2_val,\n",
    "                               \"Размер исходных термов\", \"Среднее количество шагов редукции\", norm_df['size_of_term'].unique(),\n",
    "                               \"strategies/Average_steps_count_same_normal_form_2\")"
   ]
  },
  {
   "cell_type": "markdown",
   "id": "e5513b8f",
   "metadata": {},
   "source": [
    " #### 3. Средний размер редуцированных термов для каждой стратегии"
   ]
  },
  {
   "cell_type": "code",
   "execution_count": null,
   "id": "2895cddb",
   "metadata": {},
   "outputs": [],
   "source": [
    "average_size_norm = np.zeros(shape = len(norm_df['size_of_term'].unique()), dtype=float)\n",
    "average_size_name = np.zeros(shape = len(norm_df['size_of_term'].unique()), dtype=float)\n",
    "average_size_val = np.zeros(shape = len(norm_df['size_of_term'].unique()), dtype=float)\n",
    "\n",
    "for term_size in norm_df['size_of_term'].unique():\n",
    "    average_size_norm[term_size - 1] = np.mean(norm_df[(norm_df['size_of_term'] == term_size) &\n",
    "                                                  (norm_df['has_normal_form'] == True)]['size_reduced'])\n",
    "    average_size_name[term_size - 1] = np.mean(name_df[(name_df['size_of_term'] == term_size) &\n",
    "                                                  (name_df['has_normal_form'] == True)]['size_reduced'])\n",
    "    average_size_val[term_size - 1] = np.mean(val_df[(val_df['size_of_term'] == term_size) &\n",
    "                                                  (val_df['has_normal_form'] == True)]['size_reduced'])"
   ]
  },
  {
   "cell_type": "code",
   "execution_count": null,
   "id": "cf20d7fe",
   "metadata": {},
   "outputs": [],
   "source": [
    "draw_and_save_three_lines_graph(average_size_norm, average_size_name, average_size_val,\n",
    "                               \"Размер исходных термов\", \"Средний размер редуцированного терма\", norm_df['size_of_term'].unique(),\n",
    "                               \"strategies/Average_reduced_term_size\")"
   ]
  },
  {
   "cell_type": "markdown",
   "id": "c7b38fa0",
   "metadata": {},
   "source": [
    " #### 4. [Бесполезный] Средний размер редуцированных термов для каждой стратегии, где вызов по имени и вызов по значению привели терм к нормальной форме в соответствии с нормальной стратегий"
   ]
  },
  {
   "cell_type": "code",
   "execution_count": null,
   "id": "0390a4c0",
   "metadata": {},
   "outputs": [],
   "source": [
    "average_size2_norm = np.zeros(shape = len(norm_df['size_of_term'].unique()), dtype=float)\n",
    "average_size2_name = np.zeros(shape = len(norm_df['size_of_term'].unique()), dtype=float)\n",
    "average_size2_val = np.zeros(shape = len(norm_df['size_of_term'].unique()), dtype=float)\n",
    "\n",
    "for term_size in norm_df['size_of_term'].unique():\n",
    "    average_size2_norm[term_size - 1] = np.mean(norm_df[(norm_df['size_of_term'] == term_size) &\n",
    "                                                  (norm_df['has_normal_form'] == True)\n",
    "                                                      &(norm_df['is_same_norm'] == True)\n",
    "                                                       &(norm_df['is_same_val'] == True)\n",
    "                                                       &(norm_df['is_same_name'] == True)]['size_reduced'])\n",
    "    average_size2_name[term_size - 1] = np.mean(name_df[(name_df['size_of_term'] == term_size) &\n",
    "                                                  (name_df['has_normal_form'] == True)\n",
    "                                                      &(norm_df['is_same_norm'] == True)\n",
    "                                                       &(norm_df['is_same_val'] == True)\n",
    "                                                       &(norm_df['is_same_name'] == True)]['size_reduced'])\n",
    "    average_size2_val[term_size - 1] = np.mean(val_df[(val_df['size_of_term'] == term_size) &\n",
    "                                                  (val_df['has_normal_form'] == True)\n",
    "                                                    &(norm_df['is_same_norm'] == True)\n",
    "                                                       &(norm_df['is_same_val'] == True)\n",
    "                                                       &(norm_df['is_same_name'] == True)]['size_reduced'])"
   ]
  },
  {
   "cell_type": "code",
   "execution_count": null,
   "id": "99d8ee69",
   "metadata": {},
   "outputs": [],
   "source": [
    "draw_and_save_three_lines_graph(average_size2_norm, average_size2_name, average_size2_val,\n",
    "                               \"Размер термов\", \"Средний размер редуцированного терма\", norm_df['size_of_term'].unique(),\n",
    "                               \"Average_reduced_term_size_same_normal_form\")"
   ]
  },
  {
   "cell_type": "markdown",
   "id": "c7c273e4",
   "metadata": {},
   "source": [
    "#### 5. Среднее значение максимальных размеров термов во время редукции для каждой стратегии"
   ]
  },
  {
   "cell_type": "code",
   "execution_count": null,
   "id": "e3b11f41",
   "metadata": {},
   "outputs": [],
   "source": [
    "average_maxsize_norm = np.zeros(shape = len(norm_df['size_of_term'].unique()), dtype=float)\n",
    "average_maxsize_name = np.zeros(shape = len(norm_df['size_of_term'].unique()), dtype=float)\n",
    "average_maxsize_val = np.zeros(shape = len(norm_df['size_of_term'].unique()), dtype=float)\n",
    "\n",
    "for term_size in norm_df['size_of_term'].unique():\n",
    "    average_maxsize_norm[term_size - 1] = np.mean(norm_df[(norm_df['size_of_term'] == term_size) &\n",
    "                                                  (norm_df['has_normal_form'] == True)]['size_biggest_term_in_steps'])\n",
    "    average_maxsize_name[term_size - 1] = np.mean(name_df[(name_df['size_of_term'] == term_size) &\n",
    "                                                  (name_df['has_normal_form'] == True)]['size_biggest_term_in_steps'])\n",
    "    average_maxsize_val[term_size - 1] = np.mean(val_df[(val_df['size_of_term'] == term_size) &\n",
    "                                                  (val_df['has_normal_form'] == True)]['size_biggest_term_in_steps'])"
   ]
  },
  {
   "cell_type": "code",
   "execution_count": null,
   "id": "0d219f9d",
   "metadata": {},
   "outputs": [],
   "source": [
    "draw_and_save_three_lines_graph(average_maxsize_norm, average_maxsize_name, average_maxsize_val,\n",
    "                               \"Размер исходных термов\", \"Средний максимальный размер терма во время редукции\", norm_df['size_of_term'].unique(),\n",
    "                               \"strategies/Average_max_term_size\")"
   ]
  },
  {
   "cell_type": "markdown",
   "id": "33cc5493",
   "metadata": {},
   "source": [
    "#### 6. Среднее значение максимальных размеров термов во время редукции для каждой стратегии, где вызов по имени и вызов по значению привели терм к нормальной форме в соответствии с нормальной стратегий"
   ]
  },
  {
   "cell_type": "code",
   "execution_count": null,
   "id": "94e874e2",
   "metadata": {},
   "outputs": [],
   "source": [
    "average_maxsize2_norm"
   ]
  },
  {
   "cell_type": "code",
   "execution_count": null,
   "id": "986fe9c4",
   "metadata": {},
   "outputs": [],
   "source": [
    "norm_df[norm_df['size_biggest_term_in_steps'] < norm_df['size_of_term']]"
   ]
  },
  {
   "cell_type": "code",
   "execution_count": null,
   "id": "60c148c4",
   "metadata": {},
   "outputs": [],
   "source": [
    "average_maxsize2_norm = np.zeros(shape = len(norm_df['size_of_term'].unique()), dtype=float)\n",
    "average_maxsize2_name = np.zeros(shape = len(norm_df['size_of_term'].unique()), dtype=float)\n",
    "average_maxsize2_val = np.zeros(shape = len(norm_df['size_of_term'].unique()), dtype=float)\n",
    "\n",
    "for term_size in norm_df['size_of_term'].unique():\n",
    "    average_maxsize2_norm[term_size - 1] = np.mean(norm_df[(norm_df['size_of_term'] == term_size) &\n",
    "                                                  (norm_df['has_normal_form'] == True)\n",
    "                                                          &(norm_df['is_same_norm'] == True)\n",
    "                                                       &(norm_df['is_same_val'] == True)\n",
    "                                                       &(norm_df['is_same_name'] == True)]['size_biggest_term_in_steps'])\n",
    "    \n",
    "    average_maxsize2_name[term_size - 1] = np.mean(name_df[(name_df['size_of_term'] == term_size) &\n",
    "                                                  (name_df['has_normal_form'] == True)\n",
    "                                                          &(norm_df['is_same_norm'] == True)\n",
    "                                                       &(norm_df['is_same_val'] == True)\n",
    "                                                       &(norm_df['is_same_name'] == True)]['size_biggest_term_in_steps'])\n",
    "    \n",
    "    average_maxsize2_val[term_size - 1] = np.mean(val_df[(val_df['size_of_term'] == term_size) &\n",
    "                                                  (val_df['has_normal_form'] == True)&(norm_df['is_same_norm'] == True)\n",
    "                                                       &(norm_df['is_same_val'] == True)\n",
    "                                                       &(norm_df['is_same_name'] == True)]['size_biggest_term_in_steps'])"
   ]
  },
  {
   "cell_type": "code",
   "execution_count": null,
   "id": "5c84f83b",
   "metadata": {},
   "outputs": [],
   "source": [
    "draw_and_save_three_lines_graph(average_maxsize2_norm, average_maxsize2_name, average_maxsize2_val,\n",
    "                               \"Размер исходных термов\", \"Средний максимальный размер редуцированного терма\", norm_df['size_of_term'].unique(),\n",
    "                               \"strategies/Average_max_term_size_same_normal_form\")"
   ]
  },
  {
   "cell_type": "markdown",
   "id": "29cb8186",
   "metadata": {},
   "source": [
    "#### 7. Максимальное значение максимальных размеров термов во время редукции для каждой стратегии"
   ]
  },
  {
   "cell_type": "code",
   "execution_count": null,
   "id": "f88a9443",
   "metadata": {},
   "outputs": [],
   "source": [
    "max_maxsize_norm = np.zeros(shape = len(norm_df['size_of_term'].unique()), dtype=float)\n",
    "max_maxsize_name = np.zeros(shape = len(norm_df['size_of_term'].unique()), dtype=float)\n",
    "max_maxsize_val = np.zeros(shape = len(norm_df['size_of_term'].unique()), dtype=float)\n",
    "\n",
    "for term_size in norm_df['size_of_term'].unique():\n",
    "    max_maxsize_norm[term_size - 1] = np.max(norm_df[(norm_df['size_of_term'] == term_size) &\n",
    "                                                  (norm_df['has_normal_form'] == True)]['size_biggest_term_in_steps'])\n",
    "    max_maxsize_name[term_size - 1] = np.max(name_df[(name_df['size_of_term'] == term_size) &\n",
    "                                                  (name_df['has_normal_form'] == True)]['size_biggest_term_in_steps'])\n",
    "    max_maxsize_val[term_size - 1] = np.max(val_df[(val_df['size_of_term'] == term_size) &\n",
    "                                                  (val_df['has_normal_form'] == True)]['size_biggest_term_in_steps'])\n",
    "    "
   ]
  },
  {
   "cell_type": "code",
   "execution_count": null,
   "id": "6cd7082b",
   "metadata": {},
   "outputs": [],
   "source": [
    "draw_and_save_three_lines_graph(max_maxsize_norm, max_maxsize_name, max_maxsize_val,\n",
    "                               \"Размер исходных термов\", \"Максимальный размер терма во время редукции\", norm_df['size_of_term'].unique(),\n",
    "                               \"strategies/Max_max_term_size\")"
   ]
  },
  {
   "cell_type": "markdown",
   "id": "0de566fe",
   "metadata": {},
   "source": [
    "#### 8. Максимальное значение максимальных размеров термов во время редукции для каждой стратегии, где вызов по имени и вызов по значению привели терм к нормальной форме в соответствии с нормальной стратегий"
   ]
  },
  {
   "cell_type": "code",
   "execution_count": null,
   "id": "2920d5d7",
   "metadata": {},
   "outputs": [],
   "source": [
    "max_maxsize2_norm = np.zeros(shape = len(norm_df['size_of_term'].unique()), dtype=float)\n",
    "max_maxsize2_name = np.zeros(shape = len(norm_df['size_of_term'].unique()), dtype=float)\n",
    "max_maxsize2_val = np.zeros(shape = len(norm_df['size_of_term'].unique()), dtype=float)\n",
    "\n",
    "for term_size in norm_df['size_of_term'].unique():\n",
    "    max_maxsize2_norm[term_size - 1] = np.max(norm_df[(norm_df['size_of_term'] == term_size) &\n",
    "                                                  (norm_df['has_normal_form'] == True)\n",
    "                                                     &(norm_df['is_same_norm'] == True)\n",
    "                                                       &(norm_df['is_same_val'] == True)\n",
    "                                                       &(norm_df['is_same_name'] == True)]['size_biggest_term_in_steps'])\n",
    "    \n",
    "    max_maxsize2_name[term_size - 1] = np.max(name_df[(name_df['size_of_term'] == term_size) &\n",
    "                                                  (name_df['has_normal_form'] == True)\n",
    "                                                     &(norm_df['is_same_norm'] == True)\n",
    "                                                       &(norm_df['is_same_val'] == True)\n",
    "                                                       &(norm_df['is_same_name'] == True)]['size_biggest_term_in_steps'])\n",
    "    \n",
    "    max_maxsize2_val[term_size - 1] = np.max(val_df[(val_df['size_of_term'] == term_size) &\n",
    "                                                  (val_df['has_normal_form'] == True)\n",
    "                                                   &(norm_df['is_same_norm'] == True)\n",
    "                                                       &(norm_df['is_same_val'] == True)\n",
    "                                                       &(norm_df['is_same_name'] == True)]['size_biggest_term_in_steps'])\n",
    "    "
   ]
  },
  {
   "cell_type": "code",
   "execution_count": null,
   "id": "c958ed77",
   "metadata": {
    "scrolled": false
   },
   "outputs": [],
   "source": [
    "draw_and_save_three_lines_graph(max_maxsize2_norm, max_maxsize2_name, max_maxsize2_val,\n",
    "                               \"Размер исходных термов\", \"Максимальный размер терма во время редукции\", norm_df['size_of_term'].unique(),\n",
    "                               \"strategies/Max_max_term_size_same_normal_form\")"
   ]
  },
  {
   "cell_type": "code",
   "execution_count": null,
   "id": "910faa1a",
   "metadata": {
    "scrolled": true
   },
   "outputs": [],
   "source": [
    "val_df[val_df['size_of_term'] == 16]['size_biggest_term_in_steps'].dropna().sort_values()"
   ]
  },
  {
   "cell_type": "code",
   "execution_count": null,
   "id": "43e96bab",
   "metadata": {},
   "outputs": [],
   "source": [
    "val_df.iloc[2456106]"
   ]
  },
  {
   "cell_type": "code",
   "execution_count": null,
   "id": "a7b97fc1",
   "metadata": {},
   "outputs": [],
   "source": [
    "name_df.iloc[2456106]"
   ]
  },
  {
   "cell_type": "code",
   "execution_count": null,
   "id": "7e88f15d",
   "metadata": {},
   "outputs": [],
   "source": [
    "norm_df.iloc[2456106]"
   ]
  },
  {
   "cell_type": "markdown",
   "id": "74ac1a5a",
   "metadata": {},
   "source": [
    "#### 9. Доля термов, результат редукции которых совпадает во всех 3 стратегиях"
   ]
  },
  {
   "cell_type": "markdown",
   "id": "93588b87",
   "metadata": {},
   "source": [
    "#### 10. Доля термов, результат редукции которых совпадает для каждой пары стратегий."
   ]
  },
  {
   "cell_type": "markdown",
   "id": "811a9e38",
   "metadata": {},
   "source": [
    "9-10 на одном графике отобразим"
   ]
  },
  {
   "cell_type": "code",
   "execution_count": null,
   "id": "98d3e769",
   "metadata": {},
   "outputs": [],
   "source": [
    "precent_all_same = np.zeros(shape = len(norm_df['size_of_term'].unique()), dtype=float)\n",
    "precent_norm_val = np.zeros(shape = len(norm_df['size_of_term'].unique()), dtype=float)\n",
    "precent_norm_name = np.zeros(shape = len(norm_df['size_of_term'].unique()), dtype=float)\n",
    "precent_val_name = np.zeros(shape = len(norm_df['size_of_term'].unique()), dtype=float)\n",
    "\n",
    "for term_size in norm_df['size_of_term'].unique():\n",
    "    cnt_all_same =  norm_df[(norm_df['size_of_term'] == term_size) &\n",
    "                                                  (norm_df['has_normal_form'] == True)\n",
    "                                                     &(norm_df['is_same_norm'] == True)\n",
    "                                                       &(norm_df['is_same_val'] == True)\n",
    "                                                       &(norm_df['is_same_name'] == True)].shape[0]\n",
    "    \n",
    "    precent_all_same[term_size - 1] = cnt_all_same / norm_df[(norm_df['size_of_term'] == term_size) &\n",
    "                                                  (norm_df['has_normal_form'] == True)].shape[0]\n",
    "    \n",
    "    cnt_norm_val_same =  norm_df[(norm_df['size_of_term'] == term_size) &\n",
    "                                                  (norm_df['has_normal_form'] == True)\n",
    "                                                     &(norm_df['is_same_norm'] == True)\n",
    "                                                       &(norm_df['is_same_val'] == True)].shape[0]\n",
    "    \n",
    "    precent_norm_val[term_size - 1] = cnt_norm_val_same / norm_df[(norm_df['size_of_term'] == term_size) &\n",
    "                                                  (norm_df['has_normal_form'] == True)].shape[0]    \n",
    "    \n",
    "    \n",
    "    cnt_norm_name_same =  norm_df[(norm_df['size_of_term'] == term_size) &\n",
    "                                                  (norm_df['has_normal_form'] == True)\n",
    "                                                     &(norm_df['is_same_norm'] == True)\n",
    "                                                       &(norm_df['is_same_name'] == True)].shape[0]\n",
    "    \n",
    "    precent_norm_name[term_size - 1] = cnt_norm_name_same / norm_df[(norm_df['size_of_term'] == term_size) &\n",
    "                                                  (norm_df['has_normal_form'] == True)].shape[0]    \n",
    "    \n",
    "    \n",
    "    cnt_val_name_same =  val_df[(val_df['size_of_term'] == term_size) &\n",
    "                                                  (val_df['has_normal_form'] == True)\n",
    "                                                     &(val_df['is_same_name'] == True)\n",
    "                                                       &(val_df['is_same_val'] == True)].shape[0]\n",
    "    \n",
    "    precent_val_name[term_size - 1] = cnt_val_name_same / val_df[(val_df['size_of_term'] == term_size) &\n",
    "                                                  (val_df['has_normal_form'] == True)].shape[0]    \n",
    "    \n",
    "   \n",
    "    "
   ]
  },
  {
   "cell_type": "code",
   "execution_count": null,
   "id": "7adec316",
   "metadata": {},
   "outputs": [],
   "source": [
    "fig, axes = plt.subplots(ncols=1,nrows=1, figsize = (8, 5))\n",
    "axes.set_xticks(norm_df['size_of_term'].unique())\n",
    "axes.set_xlabel('Размер исходных термов', **font)\n",
    "# axes.set_ylabel('Доля термов, дающих одинаковый результат в различных стратегиях', **font)\n",
    "sns.lineplot(x=norm_df['size_of_term'].unique(), ax = axes, y=precent_all_same, label = 'Во всех стратегиях')    \n",
    "sns.lineplot(x=norm_df['size_of_term'].unique(), ax = axes, y=precent_norm_val, label = 'В нормальной стратегии и вызове по значению')\n",
    "sns.lineplot(x=norm_df['size_of_term'].unique(), ax = axes, y=precent_norm_name, label = 'В нормальной стратегии и вызове по имени')\n",
    "sns.lineplot(x=norm_df['size_of_term'].unique(), ax = axes, y=precent_val_name, label = 'В вызове по значению и вызове по имени')\n",
    "plt.legend(loc = 'best')\n",
    "plt.legend(prop=font)\n",
    "\n",
    "fig.tight_layout()\n",
    "fig.savefig('results/strategies/Precent_same_reduced_terms' + '.svg', bbox_inches='tight')"
   ]
  },
  {
   "cell_type": "markdown",
   "id": "07cd4c5b",
   "metadata": {},
   "source": [
    "#### 11. Доля термов, не имеющих нормальную форму в своей стратегии, среди всех термов для каждой стратегии"
   ]
  },
  {
   "cell_type": "code",
   "execution_count": null,
   "id": "901c3aa4",
   "metadata": {},
   "outputs": [],
   "source": [
    "precent_no_nf_val = np.zeros(shape = len(norm_df['size_of_term'].unique()), dtype=float)\n",
    "precent_no_nf_norm = np.zeros(shape = len(norm_df['size_of_term'].unique()), dtype=float)\n",
    "precent_no_nf_name = np.zeros(shape = len(norm_df['size_of_term'].unique()), dtype=float)\n",
    "\n",
    "for term_size in norm_df['size_of_term'].unique():\n",
    "    precent_no_nf_norm[term_size-1] =  (norm_df[(norm_df['size_of_term'] == term_size) &\n",
    "                                                  (norm_df['has_normal_form'] == False)].shape[0]) / (norm_df[(norm_df['size_of_term'] == term_size)].shape[0])\n",
    "    \n",
    "    precent_no_nf_val[term_size-1] =  (val_df[(val_df['size_of_term'] == term_size) &\n",
    "                                                  (val_df['has_normal_form'] == False)].shape[0]) / (val_df[(val_df['size_of_term'] == term_size)].shape[0])\n",
    "  \n",
    "\n",
    "    precent_no_nf_name[term_size-1] =  (name_df[(name_df['size_of_term'] == term_size) &\n",
    "                                                  (name_df['has_normal_form'] == False)].shape[0]) / (name_df[(norm_df['size_of_term'] == term_size)].shape[0])\n",
    "\n",
    "    "
   ]
  },
  {
   "cell_type": "code",
   "execution_count": null,
   "id": "da52e430",
   "metadata": {},
   "outputs": [],
   "source": [
    "draw_and_save_three_lines_graph(precent_no_nf_norm, precent_no_nf_name, precent_no_nf_val,\n",
    "                               \"Размер исходных термов\", \"Доля термов без нормальной формы среди всех термов\", norm_df['size_of_term'].unique(),\n",
    "                               \"strategies/Precent_no_nf_term\")"
   ]
  },
  {
   "cell_type": "markdown",
   "id": "fc019626",
   "metadata": {},
   "source": [
    "#### 12. Доля термов среди термов без нормальной формы, которые не имеют нормальной формы так как \"расходятся\" для каждой стратегии"
   ]
  },
  {
   "cell_type": "code",
   "execution_count": null,
   "id": "2de4a68a",
   "metadata": {},
   "outputs": [],
   "source": [
    "cnt_to_skip = 4\n",
    "precent_increasing_full = np.zeros(shape = len(normal_forms_df['size_of_term'].unique())- cnt_to_skip, dtype=float)\n",
    "\n",
    "for term_size in range(cnt_to_skip, len(normal_forms_df['size_of_term'].unique())):\n",
    "    precent_increasing_full[term_size - cnt_to_skip] = (normal_forms_df[(normal_forms_df['size_of_term'] == term_size + 1) &\n",
    "                                                  (normal_forms_df['has_normal_form'] == False)\n",
    "                                                                         &(normal_forms_df['increasing_reduction'] == True)].shape[0]\n",
    "                                             ) / (normal_forms_df[(normal_forms_df['size_of_term'] == term_size + 1) &\n",
    "                                                  (normal_forms_df['has_normal_form'] == False)].shape[0])\n",
    "    \n",
    "    \n",
    "draw_and_save_one_line_graph(precent_increasing_full,\n",
    "                               \"Размер исходных термов\", \"Доля развертывающихся термов среди термов без нормальной формы\",\n",
    "                                np.apply_along_axis(lambda x: x + cnt_to_skip, 0, normal_forms_df['size_of_term'].unique()[:len(normal_forms_df['size_of_term'].unique())- cnt_to_skip]),\n",
    "                               \"just_normal/Precent_increasing_full\")"
   ]
  },
  {
   "cell_type": "code",
   "execution_count": null,
   "id": "91edc476",
   "metadata": {},
   "outputs": [],
   "source": [
    "cnt_to_skip = 4\n",
    "precent_increase_val = np.zeros(shape = len(norm_df['size_of_term'].unique())- cnt_to_skip, dtype=float)\n",
    "precent_increase_norm = np.zeros(shape = len(norm_df['size_of_term'].unique())- cnt_to_skip, dtype=float)\n",
    "precent_increase_name = np.zeros(shape = len(norm_df['size_of_term'].unique())- cnt_to_skip, dtype=float)\n",
    "\n",
    "for term_size in range(cnt_to_skip, len(norm_df['size_of_term'].unique())):\n",
    "    precent_increase_norm[term_size - cnt_to_skip] =  (norm_df[(norm_df['size_of_term'] == term_size + 1) &\n",
    "                                                  (norm_df['has_normal_form'] == False)\n",
    "                                                     &(norm_df['increasing_reduction'] == True)].shape[0]) / (norm_df[(norm_df['size_of_term'] == term_size + 1) \n",
    "                                                                                                                    &(norm_df['has_normal_form'] == False)].shape[0])\n",
    "    \n",
    "    precent_increase_val[term_size - cnt_to_skip] =  (val_df[(val_df['size_of_term'] == term_size + 1) &\n",
    "                                                  (val_df['has_normal_form'] == False)\n",
    "                                                     &(val_df['increasing_reduction'] == True)].shape[0]) / (val_df[(val_df['size_of_term'] == term_size + 1) \n",
    "                                                                                                                    &(val_df['has_normal_form'] == False)].shape[0])\n",
    "    \n",
    "    precent_increase_name[term_size - cnt_to_skip] =  (name_df[(name_df['size_of_term'] == term_size + 1) &\n",
    "                                                  (name_df['has_normal_form'] == False)\n",
    "                                                     &(name_df['increasing_reduction'] == True)].shape[0]) / (name_df[(name_df['size_of_term'] == term_size + 1) \n",
    "                                                                                                                    &(name_df['has_normal_form'] == False)].shape[0])\n",
    "   \n",
    "    "
   ]
  },
  {
   "cell_type": "code",
   "execution_count": null,
   "id": "c76ced70",
   "metadata": {},
   "outputs": [],
   "source": [
    "draw_and_save_three_lines_graph(precent_increase_norm, precent_increase_name, precent_increase_val,\n",
    "                               \"Размер исходых термов\", \"Доля развертывающихся термов среди всех термов, не имеющих нормальную форму\",\n",
    "                                np.apply_along_axis(lambda x: x + cnt_to_skip, 0, norm_df['size_of_term'].unique()[:len(norm_df['size_of_term'].unique())- cnt_to_skip]),\n",
    "                               \"strategies/Precent_increasing_term\")"
   ]
  },
  {
   "cell_type": "markdown",
   "id": "05071f3f",
   "metadata": {},
   "source": [
    "#### 13. Доля термов среди термов без нормальной формы, которые не имеют нормальной формы так как \"зацикливаются\" для каждой стратегии"
   ]
  },
  {
   "cell_type": "code",
   "execution_count": null,
   "id": "29adc63d",
   "metadata": {},
   "outputs": [],
   "source": [
    "cnt_to_skip = 4\n",
    "precent_cycled_val = np.zeros(shape = len(norm_df['size_of_term'].unique())- cnt_to_skip, dtype=float)\n",
    "precent_cycled_norm = np.zeros(shape = len(norm_df['size_of_term'].unique())- cnt_to_skip, dtype=float)\n",
    "precent_cycled_name = np.zeros(shape = len(norm_df['size_of_term'].unique())- cnt_to_skip, dtype=float)\n",
    "\n",
    "for term_size in range(cnt_to_skip, len(norm_df['size_of_term'].unique())):\n",
    "    precent_cycled_norm[term_size - cnt_to_skip] =  (norm_df[(norm_df['size_of_term'] == term_size + 1) &\n",
    "                                                  (norm_df['has_normal_form'] == False)\n",
    "                                                     &(norm_df['cycled_reduction'] == True)]\n",
    "                                                     .shape[0]) / (norm_df[(norm_df['size_of_term'] == term_size + 1)\n",
    "                                                                           &(norm_df['has_normal_form'] == False)].shape[0])\n",
    "    \n",
    "    precent_cycled_val[term_size - cnt_to_skip] =  (val_df[(val_df['size_of_term'] == term_size + 1) &\n",
    "                                                  (val_df['has_normal_form'] == False)\n",
    "                                                     &(val_df['cycled_reduction'] == True)]\n",
    "                                                    .shape[0]) / (val_df[(val_df['size_of_term'] == term_size + 1)\n",
    "                                                                         &(val_df['has_normal_form'] == False)].shape[0])\n",
    "    \n",
    "    precent_cycled_name[term_size - cnt_to_skip] =  ( name_df[(name_df['size_of_term'] == term_size + 1) &\n",
    "                                                  (name_df['has_normal_form'] == False)\n",
    "                                                     &(name_df['cycled_reduction'] == True)].\n",
    "                                                     shape[0]) / (name_df[(name_df['size_of_term'] == term_size + 1)\n",
    "                                                                          &(name_df['has_normal_form'] == False)].shape[0])\n",
    "   \n",
    "    "
   ]
  },
  {
   "cell_type": "code",
   "execution_count": null,
   "id": "64c1c3ae",
   "metadata": {},
   "outputs": [],
   "source": [
    "draw_and_save_three_lines_graph(precent_cycled_norm, precent_cycled_name, precent_cycled_val,\n",
    "                               \"Размер исходных термов\", \"Доля зацикливающихся термов среди всех термов, не имеющих нормальную форму\", np.apply_along_axis(lambda x: x + cnt_to_skip, 0, norm_df['size_of_term'].unique()[:len(norm_df['size_of_term'].unique())- cnt_to_skip]),\n",
    "                               \"strategies/Precent_cycled_term\")"
   ]
  },
  {
   "cell_type": "markdown",
   "id": "68d5dde8",
   "metadata": {},
   "source": [
    "## 2. Анализ приведения к нормальной форме в нормальной стратегии"
   ]
  },
  {
   "cell_type": "code",
   "execution_count": null,
   "id": "524d1de5",
   "metadata": {},
   "outputs": [],
   "source": [
    "normal_forms_df.shape[0]"
   ]
  },
  {
   "cell_type": "code",
   "execution_count": null,
   "id": "b1d10d21",
   "metadata": {},
   "outputs": [],
   "source": [
    "1 - normal_forms_df[normal_forms_df['steps_count'] == 0].shape[0] / normal_forms_df.shape[0]"
   ]
  },
  {
   "cell_type": "code",
   "execution_count": null,
   "id": "cb020db1",
   "metadata": {},
   "outputs": [],
   "source": [
    "def draw_and_save_one_line_graph_points(x, xlabel, ylabel, x_data, output_name = None):\n",
    "    fig, axes = plt.subplots(ncols=1,nrows=1)\n",
    "    axes.set_xticks(x_data)\n",
    "    axes.set_xlabel(xlabel, **font)\n",
    "#     axes.set_ylabel(ylabel, **font)\n",
    "    sns.pointplot(x=x_data, ax=axes, y=x)\n",
    "#     sns.lineplot(x=x_data, ax = axes, y=x)\n",
    "#     plt.legend(loc = 'best')\n",
    "#     plt.legend(prop=font)\n",
    "\n",
    "    if (output_name is not None):\n",
    "        fig.tight_layout()\n",
    "        fig.savefig('results/' + output_name + '.svg', bbox_inches='tight')"
   ]
  },
  {
   "cell_type": "markdown",
   "id": "b94245b4",
   "metadata": {},
   "source": [
    "#### 0. Доля термов, которые уже в нормальной форме"
   ]
  },
  {
   "cell_type": "code",
   "execution_count": null,
   "id": "61668625",
   "metadata": {},
   "outputs": [],
   "source": [
    "precent_terms_in_nf = np.zeros(shape = len(normal_forms_df['size_of_term'].unique()), dtype=float)\n",
    "\n",
    "for term_size in normal_forms_df['size_of_term'].unique():\n",
    "    precent_terms_in_nf[term_size - 1] = normal_forms_df[(normal_forms_df['size_of_term'] == term_size) &\n",
    "                                                  (normal_forms_df['has_normal_form'] == True) &\n",
    "                                                                (normal_forms_df['steps_count'] == 0)].shape[0] / normal_forms_df[normal_forms_df['size_of_term'] == term_size].shape[0]"
   ]
  },
  {
   "cell_type": "code",
   "execution_count": null,
   "id": "8e88b9c6",
   "metadata": {},
   "outputs": [],
   "source": [
    "draw_and_save_one_line_graph_points(precent_terms_in_nf,\n",
    "                               \"Размер исходных термов\", \"Доля термов, которые уже в нормальной форме\",\n",
    "                                normal_forms_df['size_of_term'].unique(),\n",
    "                               \"just_normal/Precent_terms_already_in_normal_form_2\")"
   ]
  },
  {
   "cell_type": "code",
   "execution_count": null,
   "id": "bf315145",
   "metadata": {},
   "outputs": [],
   "source": [
    "draw_and_save_one_line_graph(precent_terms_in_nf,\n",
    "                               \"Размер термов\", \"Доля термов, которые уже в нормальной форме\",\n",
    "                                normal_forms_df['size_of_term'].unique(),\n",
    "                               \"just_normal/Precent_terms_already_in_normal_form\")"
   ]
  },
  {
   "cell_type": "markdown",
   "id": "0b685c30",
   "metadata": {},
   "source": [
    "#### 1. Средняя длина цепочки редукций"
   ]
  },
  {
   "cell_type": "code",
   "execution_count": null,
   "id": "17929d59",
   "metadata": {},
   "outputs": [],
   "source": [
    "average_len = np.zeros(shape = len(normal_forms_df['size_of_term'].unique()), dtype=float)\n",
    "\n",
    "for term_size in normal_forms_df['size_of_term'].unique():\n",
    "    average_len[term_size - 1] = np.mean(normal_forms_df[(normal_forms_df['size_of_term'] == term_size) &\n",
    "                                                  (normal_forms_df['has_normal_form'] == True)]['steps_count'])    "
   ]
  },
  {
   "cell_type": "code",
   "execution_count": null,
   "id": "a7ad5e46",
   "metadata": {},
   "outputs": [],
   "source": [
    "draw_and_save_one_line_graph(average_len,\n",
    "                               \"Размер термов\", \"Средняя длина цепочки редукций, приведших терм в нормальную форму в соответствии с нормальной стратегией\",\n",
    "                                normal_forms_df['size_of_term'].unique(),\n",
    "                               \"just_normal/Average_chain_length_full\")"
   ]
  },
  {
   "cell_type": "markdown",
   "id": "79c3917a",
   "metadata": {},
   "source": [
    "#### 2. Средняя длина цепочки редукций среди термов, которые не были уже в нормальной форме"
   ]
  },
  {
   "cell_type": "code",
   "execution_count": null,
   "id": "4a38beae",
   "metadata": {},
   "outputs": [],
   "source": [
    "average_len_notinnf = np.zeros(shape = len(normal_forms_df['size_of_term'].unique()), dtype=float)\n",
    "\n",
    "for term_size in normal_forms_df['size_of_term'].unique():\n",
    "    average_len_notinnf[term_size - 1] = np.mean(normal_forms_df[(normal_forms_df['size_of_term'] == term_size) &\n",
    "                                                  (normal_forms_df['has_normal_form'] == True) &\n",
    "                                                                (normal_forms_df['steps_count'] != 0)]['steps_count'])    "
   ]
  },
  {
   "cell_type": "code",
   "execution_count": null,
   "id": "fda20a8b",
   "metadata": {},
   "outputs": [],
   "source": [
    "draw_and_save_one_line_graph(average_len_notinnf,\n",
    "                               \"Размер термов\", \"Средняя длина цепочки редукций, приведших терм в нормальную форму в соответствии с нормальной стратегией среди термов, которые не были в нормальной форме\",\n",
    "                                normal_forms_df['size_of_term'].unique(),\n",
    "                               \"just_normal/Average_chain_length_not_in_nf\")"
   ]
  },
  {
   "cell_type": "code",
   "execution_count": null,
   "id": "937856a8",
   "metadata": {},
   "outputs": [],
   "source": [
    "draw_and_save_one_line_graph_points(average_len_notinnf[2:],\n",
    "                               \"Размер исходных термов\", \"Средняя длина цепочки редукций, приведших терм в нормальную форму в соответствии с нормальной стратегией среди термов, которые не были в нормальной форме\",\n",
    "                                normal_forms_df['size_of_term'].unique()[2:],\n",
    "                               \"just_normal/Average_chain_length_not_in_nf_2\")"
   ]
  },
  {
   "cell_type": "markdown",
   "id": "c8c30ef6",
   "metadata": {},
   "source": [
    "#### 3. Средний размер редуцированных термов"
   ]
  },
  {
   "cell_type": "code",
   "execution_count": null,
   "id": "2edd3df7",
   "metadata": {},
   "outputs": [],
   "source": [
    "average_reduced_size = np.zeros(shape = len(normal_forms_df['size_of_term'].unique()), dtype=float)\n",
    "\n",
    "for term_size in normal_forms_df['size_of_term'].unique():\n",
    "    average_reduced_size[term_size - 1] = np.mean(normal_forms_df[(normal_forms_df['size_of_term'] == term_size) &\n",
    "                                                  (normal_forms_df['has_normal_form'] == True)]['size_reduced'])    "
   ]
  },
  {
   "cell_type": "code",
   "execution_count": null,
   "id": "d1f40758",
   "metadata": {},
   "outputs": [],
   "source": [
    "draw_and_save_one_line_graph(average_reduced_size,\n",
    "                               \"Размер термов\", \"Средний размер редуцированных термов\",\n",
    "                                normal_forms_df['size_of_term'].unique(),\n",
    "                               \"just_normal/Average_reduced_term_size_full\")"
   ]
  },
  {
   "cell_type": "markdown",
   "id": "5c952e0a",
   "metadata": {},
   "source": [
    "#### 4. Средний размер редуцированных термов среди термов, которые были изначально не в нормальной форме"
   ]
  },
  {
   "cell_type": "code",
   "execution_count": null,
   "id": "a898ae00",
   "metadata": {},
   "outputs": [],
   "source": [
    "average_reduced_size_notinnf = np.zeros(shape = len(normal_forms_df['size_of_term'].unique()), dtype=float)\n",
    "\n",
    "for term_size in normal_forms_df['size_of_term'].unique():\n",
    "    average_reduced_size_notinnf[term_size - 1] = np.mean(normal_forms_df[(normal_forms_df['size_of_term'] == term_size) &\n",
    "                                                  (normal_forms_df['has_normal_form'] == True)\n",
    "                                                                         &(normal_forms_df['steps_count'] != 0)]['size_reduced'])    "
   ]
  },
  {
   "cell_type": "code",
   "execution_count": null,
   "id": "23dded9b",
   "metadata": {},
   "outputs": [],
   "source": [
    "draw_and_save_one_line_graph(average_reduced_size_notinnf,\n",
    "                               \"Размер термов\", \"Средний размер редуцированных термов среди термов, изначально не в нормальной фомре\",\n",
    "                                normal_forms_df['size_of_term'].unique(),\n",
    "                               \"just_normal/Average_reduced_term_size_not_in_nf\")"
   ]
  },
  {
   "cell_type": "code",
   "execution_count": null,
   "id": "1f77f5a7",
   "metadata": {},
   "outputs": [],
   "source": [
    "draw_and_save_one_line_graph_points(average_reduced_size_notinnf[2:],\n",
    "                               \"Размер исходных термов\", \"Средний размер редуцированных термов среди термов, изначально не в нормальной фомре\",\n",
    "                                normal_forms_df['size_of_term'].unique()[2:],\n",
    "                               \"just_normal/Average_reduced_term_size_not_in_nf_2\")\n"
   ]
  },
  {
   "cell_type": "markdown",
   "id": "f1a51a5d",
   "metadata": {},
   "source": [
    "посчитать уравнение"
   ]
  },
  {
   "cell_type": "markdown",
   "id": "be1ced22",
   "metadata": {},
   "source": [
    "#### 5. Средний максимальный размер термов во время редуцирования (среди термов, которые были изначально не в нормальной форме)"
   ]
  },
  {
   "cell_type": "code",
   "execution_count": null,
   "id": "68b69a0b",
   "metadata": {},
   "outputs": [],
   "source": [
    "normal_forms_df[(normal_forms_df['steps_count'] != 0) & (normal_forms_df['size_biggest_term_in_steps'] > normal_forms_df['size_of_term'])]"
   ]
  },
  {
   "cell_type": "code",
   "execution_count": null,
   "id": "2432fba1",
   "metadata": {},
   "outputs": [],
   "source": [
    "average_maxsize_notinnf = np.zeros(shape = len(normal_forms_df['size_of_term'].unique()), dtype=float)\n",
    "\n",
    "for term_size in normal_forms_df['size_of_term'].unique():\n",
    "    average_maxsize_notinnf[term_size - 1] = np.mean(normal_forms_df[(normal_forms_df['size_of_term'] == term_size) &\n",
    "                                                  (normal_forms_df['has_normal_form'] == True)\n",
    "                                                                         &(normal_forms_df['steps_count'] != 0)]['size_biggest_term_in_steps'])    "
   ]
  },
  {
   "cell_type": "code",
   "execution_count": null,
   "id": "d52dc270",
   "metadata": {},
   "outputs": [],
   "source": [
    "def draw_and_save_one_line_graph(x, xlabel, ylabel, x_data, output_name = None):\n",
    "    fig, axes = plt.subplots(ncols=1,nrows=1)\n",
    "    axes.set_xticks(x_data)\n",
    "    axes.set_xlabel(xlabel, **font)\n",
    "    axes.set_ylabel(ylabel, **font)\n",
    "    sns.pointplot(x=x_data, ax = axes, y=x)\n",
    "#     sns.lineplot(x=x_data, ax = axes, y=x, markers= True, style=\"logic\", hue=\"logic\")\n",
    "#     plt.legend(loc = 'best')\n",
    "#     plt.legend(prop=font)\n",
    "\n",
    "    if (output_name is not None):\n",
    "        fig.tight_layout()\n",
    "        fig.savefig(output_name + '.png', bbox_inches='tight')"
   ]
  },
  {
   "cell_type": "code",
   "execution_count": null,
   "id": "75acc6b5",
   "metadata": {},
   "outputs": [],
   "source": [
    "draw_and_save_one_line_graph(average_maxsize_notinnf,\n",
    "                               \"Размер исходных термов\", \"Средний максимальный размер терма во время редукции среди термов, изначально не в нормальной фомре\",\n",
    "                                normal_forms_df['size_of_term'].unique(),\n",
    "                               \"just_normal/Average_max_size_not_in_nf_2\")\n"
   ]
  },
  {
   "cell_type": "code",
   "execution_count": null,
   "id": "ffbf045c",
   "metadata": {},
   "outputs": [],
   "source": [
    "draw_and_save_one_line_graph_points(average_maxsize_notinnf[2:],\n",
    "                               \"Размер исходных термов\", \"Средний максимальный размер терма во время редукции среди термов, изначально не в нормальной фомре\",\n",
    "                                normal_forms_df['size_of_term'].unique()[2:],\n",
    "                               \"just_normal/Average_max_size_not_in_nf_2\")"
   ]
  },
  {
   "cell_type": "code",
   "execution_count": null,
   "id": "a2732680",
   "metadata": {},
   "outputs": [],
   "source": [
    "def draw_and_save_with_y_eq_x(x, xlabel, ylabel, x_data, output_name = None):\n",
    "    fig, axes = plt.subplots(ncols=1,nrows=1)\n",
    "    axes.set_xticks(x_data)\n",
    "    axes.set_xlabel(xlabel, **font)\n",
    "#     axes.set_ylabel(ylabel, **font)\n",
    "    sns.lineplot(x=x_data, ax = axes, y=x, label = 'Нормальная стратегия')\n",
    "    sns.lineplot(x=range(3,11), ax = axes, y = range(3,11), label='y = x')\n",
    "#     axes.set(xscale=\"log\", yscale=\"log\")\n",
    "    plt.legend(loc = 'best')\n",
    "    plt.legend(prop=font)\n",
    "\n",
    "    if (output_name is not None):\n",
    "        fig.tight_layout()\n",
    "        fig.savefig('results/' + output_name + '.svg', bbox_inches='tight')"
   ]
  },
  {
   "cell_type": "code",
   "execution_count": null,
   "id": "afc534b4",
   "metadata": {},
   "outputs": [],
   "source": [
    "draw_and_save_with_y_eq_x(average_maxsize_notinnf,\n",
    "                               \"Размер исходных термов\", \"Средний максимальный размер терма во время редукции среди термов, изначально не в нормальной фомре\",\n",
    "                                normal_forms_df['size_of_term'].unique(),\n",
    "                               \"just_normal/Average_max_size_not_in_nf2\")"
   ]
  },
  {
   "cell_type": "markdown",
   "id": "80139e51",
   "metadata": {},
   "source": [
    "#### 6. Максимальный максимальный размер термов во время редукции (среди термов, которые были изначально не в нормальной форме)"
   ]
  },
  {
   "cell_type": "code",
   "execution_count": null,
   "id": "41ea9328",
   "metadata": {},
   "outputs": [],
   "source": [
    "max_maxsize_notinnf = np.zeros(shape = len(normal_forms_df['size_of_term'].unique()), dtype=float)\n",
    "\n",
    "for term_size in normal_forms_df['size_of_term'].unique():\n",
    "    max_maxsize_notinnf[term_size - 1] = np.max(normal_forms_df[(normal_forms_df['size_of_term'] == term_size) &\n",
    "                                                  (normal_forms_df['has_normal_form'] == True)\n",
    "                                                                         &(normal_forms_df['steps_count'] != 0)]['size_biggest_term_in_steps'])    "
   ]
  },
  {
   "cell_type": "code",
   "execution_count": null,
   "id": "6009ac74",
   "metadata": {},
   "outputs": [],
   "source": [
    "draw_and_save_one_line_graph( max_maxsize_notinnf,\n",
    "                               \"Размер термов\", \"Максимальный максимальный размер термов во время редукции среди термов, изначально не в нормальной фомре\",\n",
    "                                normal_forms_df['size_of_term'].unique(),\n",
    "                               \"just_normal/Max_max_size_full_not_in_nf\")"
   ]
  },
  {
   "cell_type": "code",
   "execution_count": null,
   "id": "0f9d3494",
   "metadata": {
    "scrolled": true
   },
   "outputs": [],
   "source": [
    "draw_and_save_one_line_graph_points(max_maxsize_notinnf[2:],\n",
    "                               \"Размер исходных термов\", \"Максимальный максимальный размер термов во время редукции среди термов, изначально не в нормальной фомре\",\n",
    "                                normal_forms_df['size_of_term'].unique()[2:],\n",
    "                               \"just_normal/Max_max_size_full_not_in_nf_2\")"
   ]
  },
  {
   "cell_type": "code",
   "execution_count": null,
   "id": "3480ad52",
   "metadata": {},
   "outputs": [],
   "source": [
    "normal_forms_df.head(1)"
   ]
  },
  {
   "cell_type": "code",
   "execution_count": null,
   "id": "e33b3d5a",
   "metadata": {},
   "outputs": [],
   "source": [
    "normal_forms_df.head(1)"
   ]
  },
  {
   "cell_type": "code",
   "execution_count": null,
   "id": "7029c205",
   "metadata": {},
   "outputs": [],
   "source": [
    "normal_forms_df[(normal_forms_df['size_of_term'] == 9) & (normal_forms_df['size_biggest_term_in_steps'] > 500)]"
   ]
  },
  {
   "cell_type": "markdown",
   "id": "c9975e0d",
   "metadata": {},
   "source": [
    "#### 7. Отношение максимального размера терма во время редукции к первоначальному размеру"
   ]
  },
  {
   "cell_type": "code",
   "execution_count": null,
   "id": "a2628ba1",
   "metadata": {},
   "outputs": [],
   "source": [
    "size_ratio_full_notinnf = np.zeros(shape = len(normal_forms_df['size_of_term'].unique()), dtype=float)\n",
    "\n",
    "for term_size in normal_forms_df['size_of_term'].unique():\n",
    "    size_ratio_full_notinnf[term_size - 1] = np.mean(normal_forms_df[(normal_forms_df['size_of_term'] == term_size) &\n",
    "                                                  (normal_forms_df['has_normal_form'] == True) & (normal_forms_df['steps_count'] != 0)]\n",
    "                                                      ['size_biggest_term_in_steps'] /\n",
    "                                                      normal_forms_df[(normal_forms_df['size_of_term'] == term_size) &\n",
    "                                                  (normal_forms_df['has_normal_form'] == True) & (normal_forms_df['steps_count'] != 0)]\n",
    "                                                      ['size_of_term'])"
   ]
  },
  {
   "cell_type": "code",
   "execution_count": null,
   "id": "0f728c9c",
   "metadata": {
    "scrolled": false
   },
   "outputs": [],
   "source": [
    "draw_and_save_one_line_graph(size_ratio_full_notinnf,\n",
    "                               \"Размер термов\", \"Отношение максимального размера во время редукции к размеру первоначального терма в среднем\",\n",
    "                                normal_forms_df['size_of_term'].unique(),\n",
    "                               \"size_ratio_full\")"
   ]
  },
  {
   "cell_type": "code",
   "execution_count": null,
   "id": "b8276fde",
   "metadata": {},
   "outputs": [],
   "source": [
    "def draw_and_save_one_line_graph2(x, xlabel, ylabel, x_data, output_name = None):\n",
    "    fig, axes = plt.subplots(ncols=1,nrows=1)\n",
    "    axes.set_xticks(x_data)\n",
    "    axes.set_ylim(1,1.1)\n",
    "    axes.set_yticks(np.arange(1,1.1,0.01))\n",
    "#     axes.set(yscale=\"log\")\n",
    "    axes.set_xlabel(xlabel, **font)\n",
    "#     axes.set_ylabel(ylabel, **font)\n",
    "    sns.lineplot(x=x_data, ax = axes, y=x)\n",
    "#     plt.legend(loc = 'best')\n",
    "#     plt.legend(prop=font)\n",
    "\n",
    "    if (output_name is not None):\n",
    "        fig.tight_layout()\n",
    "        fig.savefig('results/' + output_name + '.svg', bbox_inches='tight')"
   ]
  },
  {
   "cell_type": "code",
   "execution_count": null,
   "id": "59893fbb",
   "metadata": {},
   "outputs": [],
   "source": [
    "def draw_and_save_one_line_graph2_points(x, xlabel, ylabel, x_data, output_name = None):\n",
    "    fig, axes = plt.subplots(ncols=1,nrows=1)\n",
    "    axes.set_xticks(x_data)\n",
    "    axes.set_ylim(1,1.1)\n",
    "    axes.set_yticks(np.arange(1,1.1,0.01))\n",
    "#     axes.set(yscale=\"log\")\n",
    "    axes.set_xlabel(xlabel, **font)\n",
    "#     axes.set_ylabel(ylabel, **font)\n",
    "    sns.pointplot(x=x_data, ax = axes, y=x)\n",
    "#     plt.legend(loc = 'best')\n",
    "#     plt.legend(prop=font)\n",
    "\n",
    "    if (output_name is not None):\n",
    "        fig.tight_layout()\n",
    "        fig.savefig('results/' + output_name + '.svg', bbox_inches='tight')"
   ]
  },
  {
   "cell_type": "code",
   "execution_count": null,
   "id": "6f783dd9",
   "metadata": {},
   "outputs": [],
   "source": [
    "draw_and_save_one_line_graph2(size_ratio_full_notinnf,\n",
    "                               \"Размер термов\", \"Отношение максимального размера во время редукции к размеру первоначального терма в среднем\",\n",
    "                                normal_forms_df['size_of_term'].unique(),\n",
    "                               \"just_normal/Size_ratio_not_in_nf\")"
   ]
  },
  {
   "cell_type": "code",
   "execution_count": null,
   "id": "c31da288",
   "metadata": {},
   "outputs": [],
   "source": [
    "draw_and_save_one_line_graph2_points(size_ratio_full_notinnf[2:],\n",
    "                               \"Размер исходных термов\", \"Отношение максимального размера во время редукции к размеру первоначального терма в среднем\",\n",
    "                                normal_forms_df['size_of_term'].unique()[2:],\n",
    "                               \"just_normal/Size_ratio_not_in_nf_2\")"
   ]
  },
  {
   "cell_type": "markdown",
   "id": "1af10727",
   "metadata": {},
   "source": [
    "#### 8. Доля \"развертывающихся\" термов среди термов без нормальной формы"
   ]
  },
  {
   "cell_type": "code",
   "execution_count": null,
   "id": "da700444",
   "metadata": {},
   "outputs": [],
   "source": [
    "cnt_to_skip = 4\n",
    "precent_increasing_full = np.zeros(shape = len(normal_forms_df['size_of_term'].unique())- cnt_to_skip, dtype=float)\n",
    "\n",
    "for term_size in range(cnt_to_skip, len(normal_forms_df['size_of_term'].unique())):\n",
    "    precent_increasing_full[term_size - cnt_to_skip] = (normal_forms_df[(normal_forms_df['size_of_term'] == term_size + 1) &\n",
    "                                                  (normal_forms_df['has_normal_form'] == False)\n",
    "                                                                         &(normal_forms_df['increasing_reduction'] == True)].shape[0]\n",
    "                                             ) / (normal_forms_df[(normal_forms_df['size_of_term'] == term_size + 1) &\n",
    "                                                  (normal_forms_df['has_normal_form'] == False)].shape[0])"
   ]
  },
  {
   "cell_type": "code",
   "execution_count": null,
   "id": "c2bbd658",
   "metadata": {},
   "outputs": [],
   "source": [
    "draw_and_save_one_line_graph(precent_increasing_full,\n",
    "                               \"Размер исходных термов\", \"Доля развертывающихся термов среди термов без нормальной формы\",\n",
    "                                np.apply_along_axis(lambda x: x + cnt_to_skip, 0, normal_forms_df['size_of_term'].unique()[:len(normal_forms_df['size_of_term'].unique())- cnt_to_skip]),\n",
    "                               \"just_normal/Precent_increasing_full\")"
   ]
  },
  {
   "cell_type": "code",
   "execution_count": null,
   "id": "2dd56ee6",
   "metadata": {},
   "outputs": [],
   "source": [
    "precent_increasing_full"
   ]
  },
  {
   "cell_type": "code",
   "execution_count": null,
   "id": "e6757493",
   "metadata": {},
   "outputs": [],
   "source": [
    "precent_cycled_full"
   ]
  },
  {
   "cell_type": "code",
   "execution_count": null,
   "id": "31f7728f",
   "metadata": {},
   "outputs": [],
   "source": []
  },
  {
   "cell_type": "markdown",
   "id": "febb7759",
   "metadata": {},
   "source": [
    "#### 9. Доля \"зацикливающихся\" термов среди термов без нормальной формы"
   ]
  },
  {
   "cell_type": "code",
   "execution_count": null,
   "id": "c1226965",
   "metadata": {},
   "outputs": [],
   "source": [
    "\n",
    "precent_cycled_full = np.zeros(shape = len(normal_forms_df['size_of_term'].unique()) - cnt_to_skip, dtype=float)\n",
    "\n",
    "for term_size in range(cnt_to_skip, len(normal_forms_df['size_of_term'].unique())):\n",
    "    precent_cycled_full[term_size - cnt_to_skip] = (normal_forms_df[(normal_forms_df['size_of_term'] == term_size + 1) &\n",
    "                                                  (normal_forms_df['has_normal_form'] == False)\n",
    "                                                                         &(normal_forms_df['cycled_reduction'] == True)].shape[0]\n",
    "                                             ) / (normal_forms_df[(normal_forms_df['size_of_term'] == term_size + 1) &\n",
    "                                                  (normal_forms_df['has_normal_form'] == False)].shape[0])\n"
   ]
  },
  {
   "cell_type": "code",
   "execution_count": null,
   "id": "a6588eb9",
   "metadata": {},
   "outputs": [],
   "source": [
    "draw_and_save_one_line_graph(precent_cycled_full,\n",
    "                               \"Размер исходных термов\", \"Доля зацикливающихся термов среди термов без нормальной формы\",\n",
    "                                np.apply_along_axis(lambda x: x + cnt_to_skip, 0, normal_forms_df['size_of_term'].unique()[:len(normal_forms_df['size_of_term'].unique())- cnt_to_skip]),\n",
    "                               \"just_normal/Precent_cycled_full\")"
   ]
  },
  {
   "cell_type": "markdown",
   "id": "355bb2c6",
   "metadata": {},
   "source": [
    "#### Распределение длин цепочек редукций среди термов размера 10"
   ]
  },
  {
   "cell_type": "code",
   "execution_count": null,
   "id": "25755163",
   "metadata": {},
   "outputs": [],
   "source": [
    "length_to_skip = 20000"
   ]
  },
  {
   "cell_type": "code",
   "execution_count": null,
   "id": "37645b83",
   "metadata": {},
   "outputs": [],
   "source": [
    "data_1 = normal_forms_df[(normal_forms_df['has_normal_form'] == True) &(normal_forms_df['steps_count'] != 0)\n",
    "               &(normal_forms_df['size_of_term'] == 10)]"
   ]
  },
  {
   "cell_type": "code",
   "execution_count": null,
   "id": "e368d25c",
   "metadata": {},
   "outputs": [],
   "source": [
    "info = data_1.steps_count.value_counts() > length_to_skip\n",
    "dict_info = info.to_dict()"
   ]
  },
  {
   "cell_type": "code",
   "execution_count": null,
   "id": "6cc8970d",
   "metadata": {},
   "outputs": [],
   "source": [
    "data_filtered = data_1[data_1['steps_count'].map(dict_info)]"
   ]
  },
  {
   "cell_type": "code",
   "execution_count": null,
   "id": "afd5af48",
   "metadata": {},
   "outputs": [],
   "source": [
    "data_filtered['steps_count'].value_counts()"
   ]
  },
  {
   "cell_type": "code",
   "execution_count": null,
   "id": "2f72106a",
   "metadata": {},
   "outputs": [],
   "source": [
    "import matplotlib.ticker as mtick\n",
    "from matplotlib.ticker import PercentFormatter\n",
    "plt.hist(x=data_filtered['steps_count'], weights=np.ones(len(data_filtered['steps_count'])) / len(data_filtered['steps_count']))\n",
    "plt.gca().yaxis.set_major_formatter(PercentFormatter(1))\n",
    "plt.xlabel(\"Длина цепочек редукций\", **font)\n",
    "plt.tight_layout()\n",
    "plt.savefig('results/just_normal/' + 'Steps_count_distrib' + '.svg', bbox_inches='tight')\n",
    "plt.show()"
   ]
  }
 ],
 "metadata": {
  "kernelspec": {
   "display_name": "Python 3",
   "language": "python",
   "name": "python3"
  },
  "language_info": {
   "codemirror_mode": {
    "name": "ipython",
    "version": 3
   },
   "file_extension": ".py",
   "mimetype": "text/x-python",
   "name": "python",
   "nbconvert_exporter": "python",
   "pygments_lexer": "ipython3",
   "version": "3.8.5"
  }
 },
 "nbformat": 4,
 "nbformat_minor": 5
}
